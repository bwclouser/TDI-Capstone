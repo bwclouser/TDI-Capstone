{
 "cells": [
  {
   "cell_type": "code",
   "execution_count": null,
   "id": "bbe8e90b",
   "metadata": {},
   "outputs": [],
   "source": []
  },
  {
   "cell_type": "code",
   "execution_count": null,
   "id": "b2358341",
   "metadata": {},
   "outputs": [],
   "source": [
    "#Please enter a date below in the format 'YYYY-MO-DY-HR', then run the cell.\n",
    "time = ...."
   ]
  }
 ],
 "metadata": {
  "kernelspec": {
   "display_name": "Python 3 (ipykernel)",
   "language": "python",
   "name": "python3"
  },
  "language_info": {
   "codemirror_mode": {
    "name": "ipython",
    "version": 3
   },
   "file_extension": ".py",
   "mimetype": "text/x-python",
   "name": "python",
   "nbconvert_exporter": "python",
   "pygments_lexer": "ipython3",
   "version": "3.9.7"
  }
 },
 "nbformat": 4,
 "nbformat_minor": 5
}
