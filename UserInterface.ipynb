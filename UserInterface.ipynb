{
 "cells": [
  {
   "cell_type": "code",
   "execution_count": 18,
   "id": "8572c4f6",
   "metadata": {},
   "outputs": [],
   "source": [
    "import numpy as np\n",
    "import pandas as pd\n",
    "import matplotlib.pyplot as plt\n",
    "import geopandas as gp\n",
    "from datetime import datetime"
   ]
  },
  {
   "cell_type": "code",
   "execution_count": 108,
   "id": "b611d626",
   "metadata": {},
   "outputs": [],
   "source": [
    "def plot_chicago(counts):\n",
    "    #expects geopandas dataframe with chicago boundary information\n",
    "    #and counts as a pandas dataframe\n",
    "    chicago=gp.read_file('/media/benjamin/Data/Chicago_Transit/Shapes/geo_export_43aec312-120e-4284-b1ca-b89761679d63.shp')\n",
    "    chicago['pickup community area']=chicago['area_num_1'].astype(np.int32)\n",
    "    with_count=chicago.merge(counts,on='pickup community area',how='left')\n",
    "    fix, ax = plt.subplots(1,1) \n",
    "    with_count.plot(column='count',vmin=0,vmax=100,ax=ax,legend=True,legend_kwds={'label':'Pickup Count'})\n",
    "    return with_count\n",
    "\n",
    "def predict(time):\n",
    "    index=np.ndarray(77)\n",
    "    area_counts=np.ndarray(77)\n",
    "    d={'time':datetime.strptime(time,\"%Y-%m-%d-%H\")}\n",
    "    julday=pd.DataFrame(data=d,index=[0]).set_index('time').index.to_julian_date()[0]\n",
    "    coeffs=np.load('NbdModels.npy')\n",
    "    for i in np.arange(0,77):\n",
    "        int_i=int(i)\n",
    "        index[int_i]=int_i+1\n",
    "        area_counts[int_i]=coeffs[0,int_i]*np.sin(2.*3.14159*julday*2.)+coeffs[1,int_i]*np.cos(2.*3.14159*julday*2.)+coeffs[2,int_i]*np.sin(2.*3.14159*julday)+coeffs[3,int_i]*np.cos(2.*3.14159*julday)+coeffs[4,int_i]*np.sin(2.*3.14159*julday/7.)+coeffs[5,int_i]*np.cos(2.*3.14159*julday/7)+coeffs[6,int_i]\n",
    "   \n",
    "    counts=pd.DataFrame(data=np.column_stack([index,area_counts]),columns=['pickup community area','count'])\n",
    "    #return counts    \n",
    "    merged=plot_chicago(counts)\n",
    "    merged=merged.sort_values(['count'],ascending=False).head()\n",
    "    merged=merged[['community','count']]\n",
    "    return merged"
   ]
  },
  {
   "cell_type": "code",
   "execution_count": 109,
   "id": "7279a613",
   "metadata": {},
   "outputs": [
    {
     "data": {
      "text/html": [
       "<div>\n",
       "<style scoped>\n",
       "    .dataframe tbody tr th:only-of-type {\n",
       "        vertical-align: middle;\n",
       "    }\n",
       "\n",
       "    .dataframe tbody tr th {\n",
       "        vertical-align: top;\n",
       "    }\n",
       "\n",
       "    .dataframe thead th {\n",
       "        text-align: right;\n",
       "    }\n",
       "</style>\n",
       "<table border=\"1\" class=\"dataframe\">\n",
       "  <thead>\n",
       "    <tr style=\"text-align: right;\">\n",
       "      <th></th>\n",
       "      <th>community</th>\n",
       "      <th>count</th>\n",
       "    </tr>\n",
       "  </thead>\n",
       "  <tbody>\n",
       "    <tr>\n",
       "      <th>74</th>\n",
       "      <td>OHARE</td>\n",
       "      <td>101.721102</td>\n",
       "    </tr>\n",
       "    <tr>\n",
       "      <th>37</th>\n",
       "      <td>LOOP</td>\n",
       "      <td>71.247046</td>\n",
       "    </tr>\n",
       "    <tr>\n",
       "      <th>28</th>\n",
       "      <td>NEAR WEST SIDE</td>\n",
       "      <td>57.233146</td>\n",
       "    </tr>\n",
       "    <tr>\n",
       "      <th>75</th>\n",
       "      <td>EDGEWATER</td>\n",
       "      <td>52.123534</td>\n",
       "    </tr>\n",
       "    <tr>\n",
       "      <th>69</th>\n",
       "      <td>AUBURN GRESHAM</td>\n",
       "      <td>49.477608</td>\n",
       "    </tr>\n",
       "  </tbody>\n",
       "</table>\n",
       "</div>"
      ],
      "text/plain": [
       "         community       count\n",
       "74           OHARE  101.721102\n",
       "37            LOOP   71.247046\n",
       "28  NEAR WEST SIDE   57.233146\n",
       "75       EDGEWATER   52.123534\n",
       "69  AUBURN GRESHAM   49.477608"
      ]
     },
     "execution_count": 109,
     "metadata": {},
     "output_type": "execute_result"
    },
    {
     "data": {
      "image/png": "[encoded data removed]",
      "text/plain": [
       "<Figure size 432x288 with 2 Axes>"
      ]
     },
     "metadata": {
      "needs_background": "light"
     },
     "output_type": "display_data"
    }
   ],
   "source": [
    "#Please enter a date below in the format 'YYYY-MO-DY-HR', then run the cell.\n",
    "time = '2021-02-13-07'\n",
    "merged=predict(time)\n",
    "merged.head(5)"
   ]
  }
 ],
 "metadata": {
  "kernelspec": {
   "display_name": "Python 3 (ipykernel)",
   "language": "python",
   "name": "python3"
  },
  "language_info": {
   "codemirror_mode": {
    "name": "ipython",
    "version": 3
   },
   "file_extension": ".py",
   "mimetype": "text/x-python",
   "name": "python",
   "nbconvert_exporter": "python",
   "pygments_lexer": "ipython3",
   "version": "3.9.7"
  }
 },
 "nbformat": 4,
 "nbformat_minor": 5
}
