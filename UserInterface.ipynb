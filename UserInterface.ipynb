{
 "cells": [
  {
   "cell_type": "code",
   "execution_count": 18,
   "id": "67812f95",
   "metadata": {},
   "outputs": [],
   "source": [
    "import numpy as np\n",
    "import pandas as pd\n",
    "import matplotlib.pyplot as plt\n",
    "import geopandas as gp\n",
    "from datetime import datetime"
   ]
  },
  {
   "cell_type": "code",
   "execution_count": 86,
   "id": "cdb8b3fb",
   "metadata": {},
   "outputs": [],
   "source": [
    "def plot_chicago(counts):\n",
    "    #expects geopandas dataframe with chicago boundary information\n",
    "    #and counts as a pandas dataframe\n",
    "    chicago=gp.read_file('/media/benjamin/Data/Chicago_Transit/Shapes/geo_export_43aec312-120e-4284-b1ca-b89761679d63.shp')\n",
    "    chicago['pickup community area']=chicago['area_num_1'].astype(np.int32)\n",
    "    with_count=chicago.merge(counts,on='pickup community area',how='left')\n",
    "    fix, ax = plt.subplots(1,1) \n",
    "    with_count.plot(column='count',ax=ax,legend=True,legend_kwds={'label':'Pickup Count'})\n",
    "    return with_count\n",
    "\n",
    "def predict(time):\n",
    "    index=np.ndarray(77)\n",
    "    area_counts=np.ndarray(77)\n",
    "    d={'time':datetime.strptime(time,\"%Y-%m-%d-%H\")}\n",
    "    julday=pd.DataFrame(data=d,index=[0]).set_index('time').index.to_julian_date()[0]\n",
    "    coeffs=np.load('NbdModels.npy')\n",
    "    for i in np.arange(0,77):\n",
    "        int_i=int(i)\n",
    "        index[int_i]=int_i+1\n",
    "        area_counts[int_i]=coeffs[0,int_i]*np.sin(2.*3.14159*julday*2.)+coeffs[1,int_i]*np.cos(2.*3.14159*julday*2.)+coeffs[2,int_i]*np.sin(2.*3.14159*julday)+coeffs[3,int_i]*np.cos(2.*3.14159*julday)+coeffs[4,int_i]*np.sin(2.*3.14159*julday/7.)+coeffs[5,int_i]*np.cos(2.*3.14159*julday/7)+coeffs[6,int_i]\n",
    "   \n",
    "    counts=pd.DataFrame(data=np.column_stack([index,area_counts]),columns=['pickup community area','count'])\n",
    "    #return counts    \n",
    "    merged=plot_chicago(counts)\n",
    "    merged=merged.sort_values(['count'],ascending=False).head()\n",
    "    merged=merged[['community','count']]\n",
    "    return merged"
   ]
  },
  {
   "cell_type": "code",
   "execution_count": 87,
   "id": "516cde23",
   "metadata": {},
   "outputs": [
    {
     "ename": "SyntaxError",
     "evalue": "invalid syntax (3148740501.py, line 2)",
     "output_type": "error",
     "traceback": [
      "\u001b[0;36m  Input \u001b[0;32mIn [87]\u001b[0;36m\u001b[0m\n\u001b[0;31m    time = ....\u001b[0m\n\u001b[0m               ^\u001b[0m\n\u001b[0;31mSyntaxError\u001b[0m\u001b[0;31m:\u001b[0m invalid syntax\n"
     ]
    }
   ],
   "source": [
    "#Please enter a date below in the format 'YYYY-MO-DY-HR', then run the cell.\n",
    "time = ...."
   ]
  },
  {
   "cell_type": "code",
   "execution_count": 91,
   "id": "8e7bf9c9",
   "metadata": {},
   "outputs": [],
   "source": [
    "time='2021-02-13-17'"
   ]
  },
  {
   "cell_type": "code",
   "execution_count": 92,
   "id": "5782b5d1",
   "metadata": {},
   "outputs": [
    {
     "data": {
      "image/png": "[encoded data removed]",
      "text/plain": [
       "<Figure size 432x288 with 2 Axes>"
      ]
     },
     "metadata": {
      "needs_background": "light"
     },
     "output_type": "display_data"
    }
   ],
   "source": [
    "merged=predict(time)\n",
    "merged.head(5)"
   ]
  },
  {
   "cell_type": "code",
   "execution_count": 90,
   "id": "05d5cfd0",
   "metadata": {},
   "outputs": [
    {
     "data": {
      "text/html": [
       "<div>\n",
       "<style scoped>\n",
       "    .dataframe tbody tr th:only-of-type {\n",
       "        vertical-align: middle;\n",
       "    }\n",
       "\n",
       "    .dataframe tbody tr th {\n",
       "        vertical-align: top;\n",
       "    }\n",
       "\n",
       "    .dataframe thead th {\n",
       "        text-align: right;\n",
       "    }\n",
       "</style>\n",
       "<table border=\"1\" class=\"dataframe\">\n",
       "  <thead>\n",
       "    <tr style=\"text-align: right;\">\n",
       "      <th></th>\n",
       "      <th>area</th>\n",
       "      <th>area_num_1</th>\n",
       "      <th>area_numbe</th>\n",
       "      <th>comarea</th>\n",
       "      <th>comarea_id</th>\n",
       "      <th>community</th>\n",
       "      <th>perimeter</th>\n",
       "      <th>shape_area</th>\n",
       "      <th>shape_len</th>\n",
       "      <th>geometry</th>\n",
       "      <th>pickup community area</th>\n",
       "      <th>count</th>\n",
       "    </tr>\n",
       "  </thead>\n",
       "  <tbody>\n",
       "    <tr>\n",
       "      <th>72</th>\n",
       "      <td>0.0</td>\n",
       "      <td>74</td>\n",
       "      <td>74</td>\n",
       "      <td>0.0</td>\n",
       "      <td>0.0</td>\n",
       "      <td>MOUNT GREENWOOD</td>\n",
       "      <td>0.0</td>\n",
       "      <td>7.558429e+07</td>\n",
       "      <td>48665.130539</td>\n",
       "      <td>POLYGON ((-87.69646 41.70714, -87.69644 41.706...</td>\n",
       "      <td>74</td>\n",
       "      <td>72.811777</td>\n",
       "    </tr>\n",
       "    <tr>\n",
       "      <th>73</th>\n",
       "      <td>0.0</td>\n",
       "      <td>75</td>\n",
       "      <td>75</td>\n",
       "      <td>0.0</td>\n",
       "      <td>0.0</td>\n",
       "      <td>MORGAN PARK</td>\n",
       "      <td>0.0</td>\n",
       "      <td>9.187734e+07</td>\n",
       "      <td>46396.419362</td>\n",
       "      <td>POLYGON ((-87.64215 41.68508, -87.64249 41.685...</td>\n",
       "      <td>75</td>\n",
       "      <td>70.693135</td>\n",
       "    </tr>\n",
       "    <tr>\n",
       "      <th>70</th>\n",
       "      <td>0.0</td>\n",
       "      <td>72</td>\n",
       "      <td>72</td>\n",
       "      <td>0.0</td>\n",
       "      <td>0.0</td>\n",
       "      <td>BEVERLY</td>\n",
       "      <td>0.0</td>\n",
       "      <td>8.877936e+07</td>\n",
       "      <td>44591.485101</td>\n",
       "      <td>POLYGON ((-87.67308 41.73566, -87.66975 41.731...</td>\n",
       "      <td>72</td>\n",
       "      <td>69.154838</td>\n",
       "    </tr>\n",
       "    <tr>\n",
       "      <th>71</th>\n",
       "      <td>0.0</td>\n",
       "      <td>73</td>\n",
       "      <td>73</td>\n",
       "      <td>0.0</td>\n",
       "      <td>0.0</td>\n",
       "      <td>WASHINGTON HEIGHTS</td>\n",
       "      <td>0.0</td>\n",
       "      <td>7.963575e+07</td>\n",
       "      <td>42222.598163</td>\n",
       "      <td>POLYGON ((-87.63373 41.72885, -87.63369 41.726...</td>\n",
       "      <td>73</td>\n",
       "      <td>65.863788</td>\n",
       "    </tr>\n",
       "    <tr>\n",
       "      <th>68</th>\n",
       "      <td>0.0</td>\n",
       "      <td>70</td>\n",
       "      <td>70</td>\n",
       "      <td>0.0</td>\n",
       "      <td>0.0</td>\n",
       "      <td>ASHBURN</td>\n",
       "      <td>0.0</td>\n",
       "      <td>1.354603e+08</td>\n",
       "      <td>54818.154632</td>\n",
       "      <td>POLYGON ((-87.71255 41.75734, -87.71252 41.757...</td>\n",
       "      <td>70</td>\n",
       "      <td>62.650205</td>\n",
       "    </tr>\n",
       "  </tbody>\n",
       "</table>\n",
       "</div>"
      ],
      "text/plain": [
       "    area area_num_1 area_numbe  comarea  comarea_id           community  \\\n",
       "72   0.0         74         74      0.0         0.0     MOUNT GREENWOOD   \n",
       "73   0.0         75         75      0.0         0.0         MORGAN PARK   \n",
       "70   0.0         72         72      0.0         0.0             BEVERLY   \n",
       "71   0.0         73         73      0.0         0.0  WASHINGTON HEIGHTS   \n",
       "68   0.0         70         70      0.0         0.0             ASHBURN   \n",
       "\n",
       "    perimeter    shape_area     shape_len  \\\n",
       "72        0.0  7.558429e+07  48665.130539   \n",
       "73        0.0  9.187734e+07  46396.419362   \n",
       "70        0.0  8.877936e+07  44591.485101   \n",
       "71        0.0  7.963575e+07  42222.598163   \n",
       "68        0.0  1.354603e+08  54818.154632   \n",
       "\n",
       "                                             geometry  pickup community area  \\\n",
       "72  POLYGON ((-87.69646 41.70714, -87.69644 41.706...                     74   \n",
       "73  POLYGON ((-87.64215 41.68508, -87.64249 41.685...                     75   \n",
       "70  POLYGON ((-87.67308 41.73566, -87.66975 41.731...                     72   \n",
       "71  POLYGON ((-87.63373 41.72885, -87.63369 41.726...                     73   \n",
       "68  POLYGON ((-87.71255 41.75734, -87.71252 41.757...                     70   \n",
       "\n",
       "        count  \n",
       "72  72.811777  \n",
       "73  70.693135  \n",
       "70  69.154838  \n",
       "71  65.863788  \n",
       "68  62.650205  "
      ]
     },
     "execution_count": 90,
     "metadata": {},
     "output_type": "execute_result"
    }
   ],
   "source": [
    "merged.head()"
   ]
  },
  {
   "cell_type": "code",
   "execution_count": 94,
   "id": "91e89a9d",
   "metadata": {},
   "outputs": [
    {
     "data": {
      "text/html": [
       "<div>\n",
       "<style scoped>\n",
       "    .dataframe tbody tr th:only-of-type {\n",
       "        vertical-align: middle;\n",
       "    }\n",
       "\n",
       "    .dataframe tbody tr th {\n",
       "        vertical-align: top;\n",
       "    }\n",
       "\n",
       "    .dataframe thead th {\n",
       "        text-align: right;\n",
       "    }\n",
       "</style>\n",
       "<table border=\"1\" class=\"dataframe\">\n",
       "  <thead>\n",
       "    <tr style=\"text-align: right;\">\n",
       "      <th></th>\n",
       "      <th>community</th>\n",
       "      <th>count</th>\n",
       "    </tr>\n",
       "  </thead>\n",
       "  <tbody>\n",
       "    <tr>\n",
       "      <th>74</th>\n",
       "      <td>OHARE</td>\n",
       "      <td>112.991752</td>\n",
       "    </tr>\n",
       "    <tr>\n",
       "      <th>73</th>\n",
       "      <td>MORGAN PARK</td>\n",
       "      <td>76.243407</td>\n",
       "    </tr>\n",
       "    <tr>\n",
       "      <th>71</th>\n",
       "      <td>WASHINGTON HEIGHTS</td>\n",
       "      <td>74.234654</td>\n",
       "    </tr>\n",
       "    <tr>\n",
       "      <th>72</th>\n",
       "      <td>MOUNT GREENWOOD</td>\n",
       "      <td>73.014039</td>\n",
       "    </tr>\n",
       "    <tr>\n",
       "      <th>66</th>\n",
       "      <td>GREATER GRAND CROSSING</td>\n",
       "      <td>72.249487</td>\n",
       "    </tr>\n",
       "  </tbody>\n",
       "</table>\n",
       "</div>"
      ],
      "text/plain": [
       "                 community       count\n",
       "74                   OHARE  112.991752\n",
       "73             MORGAN PARK   76.243407\n",
       "71      WASHINGTON HEIGHTS   74.234654\n",
       "72         MOUNT GREENWOOD   73.014039\n",
       "66  GREATER GRAND CROSSING   72.249487"
      ]
     },
     "execution_count": 94,
     "metadata": {},
     "output_type": "execute_result"
    }
   ],
   "source": [
    "merged[['community','count']]"
   ]
  },
  {
   "cell_type": "code",
   "execution_count": null,
   "id": "fb214629",
   "metadata": {},
   "outputs": [],
   "source": []
  }
 ],
 "metadata": {
  "kernelspec": {
   "display_name": "Python 3 (ipykernel)",
   "language": "python",
   "name": "python3"
  },
  "language_info": {
   "codemirror_mode": {
    "name": "ipython",
    "version": 3
   },
   "file_extension": ".py",
   "mimetype": "text/x-python",
   "name": "python",
   "nbconvert_exporter": "python",
   "pygments_lexer": "ipython3",
   "version": "3.9.7"
  }
 },
 "nbformat": 4,
 "nbformat_minor": 5
}
