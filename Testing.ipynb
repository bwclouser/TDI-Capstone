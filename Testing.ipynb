{
 "cells": [
  {
   "cell_type": "code",
   "execution_count": 1,
   "id": "66f5b024",
   "metadata": {},
   "outputs": [],
   "source": [
    "import pandas as pd\n",
    "import numpy as np\n",
    "import matplotlib.pyplot as plt\n",
    "import pyspark.sql.functions as F\n",
    "from datetime import datetime\n",
    "import geopandas as gp"
   ]
  },
  {
   "cell_type": "code",
   "execution_count": 14,
   "id": "d47ecd42",
   "metadata": {},
   "outputs": [],
   "source": [
    "from pyspark.ml.regression import LinearRegression\n",
    "from pyspark.ml.feature import VectorAssembler"
   ]
  },
  {
   "cell_type": "code",
   "execution_count": 2,
   "id": "3d6d5fa2",
   "metadata": {},
   "outputs": [
    {
     "name": "stderr",
     "output_type": "stream",
     "text": [
      "WARNING: An illegal reflective access operation has occurred\n",
      "WARNING: Illegal reflective access by org.apache.spark.unsafe.Platform (file:/home/benjamin/anaconda3/lib/python3.9/site-packages/pyspark/jars/spark-unsafe_2.12-3.1.2.jar) to constructor java.nio.DirectByteBuffer(long,int)\n",
      "WARNING: Please consider reporting this to the maintainers of org.apache.spark.unsafe.Platform\n",
      "WARNING: Use --illegal-access=warn to enable warnings of further illegal reflective access operations\n",
      "WARNING: All illegal access operations will be denied in a future release\n",
      "22/07/26 10:31:03 WARN NativeCodeLoader: Unable to load native-hadoop library for your platform... using builtin-java classes where applicable\n",
      "Using Spark's default log4j profile: org/apache/spark/log4j-defaults.properties\n",
      "Setting default log level to \"WARN\".\n",
      "To adjust logging level use sc.setLogLevel(newLevel). For SparkR, use setLogLevel(newLevel).\n"
     ]
    }
   ],
   "source": [
    "from pyspark import SparkContext\n",
    "sc = SparkContext('local[*]','temp')"
   ]
  },
  {
   "cell_type": "code",
   "execution_count": 3,
   "id": "e07170e6",
   "metadata": {},
   "outputs": [],
   "source": [
    "from pyspark.sql import SQLContext\n",
    "sqlContext=SQLContext(sc)"
   ]
  },
  {
   "cell_type": "code",
   "execution_count": 5,
   "id": "c5924716",
   "metadata": {},
   "outputs": [],
   "source": [
    "def read_in_range(start_year,start_month,end_year,end_month,path='/media/benjamin/Data/Chicago_Transit/TNP/'):\n",
    "    dt=np.dtype([('id',np.ulonglong),('start year',np.short),('start month',np.byte),('start day',np.byte),('start hour',np.byte),('start minute',np.byte),('start julian',np.double),('end year',np.short),('end month',np.byte),('end day',np.byte),('end hour',np.byte),('end minute',np.byte),('trip seconds',np.uint32),('trip miles',np.single),('pickup census tract',np.ulonglong),('dropoff census tract',np.ulonglong),('pickup community area',np.byte),('dropoff community area',np.byte),('fare',np.single),('tip',np.single),('addcharge',np.single),('trip total',np.single),('st auth',np.byte),('pool',np.byte),('pickup lat',np.double),('pickup lon',np.double),('dropoff lat',np.double),('dropoff lon',np.double)])\n",
    "    \n",
    "    #Calculate month and year ranges\n",
    "    nmonths=(end_year-start_year-1)*12.+(12.-start_month+1)+end_month\n",
    "    yrs=(start_year+np.floor((start_month+np.arange(0,nmonths)-1)/12.)).astype(int)\n",
    "    mos=(np.floor((np.mod(start_month+np.arange(nmonths)-1,12)+1 ))).astype(int)\n",
    "    \n",
    "    #construct list of file names\n",
    "    fnames=''\n",
    "    if nmonths > 1:\n",
    "        for i in np.arange(0,nmonths,dtype=np.int16):\n",
    "            fnames+=(path+\"{0:04d}{1:02d}\".format(yrs[i],mos[i])+'TNP.dat')\n",
    "            if i != nmonths-1:\n",
    "                fnames+=','\n",
    "    else:\n",
    "        fnames=path+\"{0:04d}{1:02d}\".format(yrs,mos)+'TNP.dat'\n",
    "        \n",
    "    #load binary records into rdd given record length\n",
    "    rdd=sc.binaryRecords(fnames,104)\n",
    "    out=rdd.map(read_array)\n",
    "    df=out.toDF(['id','start year','start month','start day','start hour','start minute','start julian','end year','end month','end day','end hour','end minute','trip seconds','trip miles','pickup census tract','dropoff census tract','pickup community area','dropoff community area','fare','tip','addcharge','trip total','st auth','pool','pickup lat','pickup lon','dropaff lat','dropoff lon'])\n",
    "    out.unpersist()\n",
    "    return df\n",
    "\n",
    "def area_out(df,ca,to_pandas=True):\n",
    "    with_out=df.groupby(['start year','start month','start day','start hour','start julian','pickup community area']).count()\n",
    "    out_area=with_out.where(with_out['pickup community area']==ca)\n",
    "    out_area_sort=out_area.sort(['start year','start month','start day','start hour'])\n",
    "    if to_pandas:\n",
    "        outdf=out_area_sort.toPandas()\n",
    "        outdf=outdf.rename(columns={'start year':'year','start month':'month','start day':'day','start hour':'hour'})\n",
    "    else:\n",
    "        outdf=out_area_sort.withColumnRenamed('start year','year').withColumnRenamed('start month','month').withColumnRenamed('start day','day').withColumnRenamed('start hour','hour')\n",
    "    return outdf"
   ]
  },
  {
   "cell_type": "code",
   "execution_count": 11,
   "id": "e2d2592a",
   "metadata": {},
   "outputs": [
    {
     "ename": "AttributeError",
     "evalue": "'SparkSession' object has no attribute 'binaryRecords'",
     "output_type": "error",
     "traceback": [
      "\u001b[0;31m---------------------------------------------------------------------------\u001b[0m",
      "\u001b[0;31mAttributeError\u001b[0m                            Traceback (most recent call last)",
      "Input \u001b[0;32mIn [11]\u001b[0m, in \u001b[0;36m<cell line: 1>\u001b[0;34m()\u001b[0m\n\u001b[0;32m----> 1\u001b[0m rdd\u001b[38;5;241m=\u001b[39m\u001b[43msc\u001b[49m\u001b[38;5;241;43m.\u001b[39;49m\u001b[43mbinaryRecords\u001b[49m(\u001b[38;5;124m'\u001b[39m\u001b[38;5;124m/media/benjamin/Data/Chicago_Transit/TNP/2021*TNP.dat\u001b[39m\u001b[38;5;124m'\u001b[39m,\u001b[38;5;241m104\u001b[39m)\n",
      "\u001b[0;31mAttributeError\u001b[0m: 'SparkSession' object has no attribute 'binaryRecords'"
     ]
    }
   ],
   "source": [
    "rdd=sc.binaryRecords('/media/benjamin/Data/Chicago_Transit/TNP/2021*TNP.dat',104)"
   ]
  },
  {
   "cell_type": "code",
   "execution_count": 6,
   "id": "4b8be76d",
   "metadata": {},
   "outputs": [],
   "source": [
    "dt=np.dtype([('id',np.ulonglong),('start year',np.short),('start month',np.byte),('start day',np.byte),('start hour',np.byte),('start minute',np.byte),('start julian',np.double),('end year',np.short),('end month',np.byte),('end day',np.byte),('end hour',np.byte),('end minute',np.byte),('trip seconds',np.uint32),('trip miles',np.single),('pickup census tract',np.ulonglong),('dropoff census tract',np.ulonglong),('pickup community area',np.byte),('dropoff community area',np.byte),('fare',np.single),('tip',np.single),('addcharge',np.single),('trip total',np.single),('st auth',np.byte),('pool',np.byte),('pickup lat',np.double),('pickup lon',np.double),('dropoff lat',np.double),('dropoff lon',np.double)])"
   ]
  },
  {
   "cell_type": "code",
   "execution_count": 157,
   "id": "4f0dfbb4",
   "metadata": {},
   "outputs": [
    {
     "name": "stderr",
     "output_type": "stream",
     "text": [
      "                                                                                \r"
     ]
    },
    {
     "data": {
      "text/plain": [
       "42904003"
      ]
     },
     "execution_count": 157,
     "metadata": {},
     "output_type": "execute_result"
    }
   ],
   "source": [
    "rdd.count()"
   ]
  },
  {
   "cell_type": "code",
   "execution_count": 7,
   "id": "2b56375f",
   "metadata": {},
   "outputs": [],
   "source": [
    "def read_array(x):\n",
    "    array=np.frombuffer(bytes(x),dtype=dt)\n",
    "    #array=array.newbyteorder().byteswap() # big Endian\n",
    "    return array.tolist()[0]"
   ]
  },
  {
   "cell_type": "code",
   "execution_count": 10,
   "id": "5f131cd2",
   "metadata": {},
   "outputs": [],
   "source": [
    "out=rdd.map(read_array)"
   ]
  },
  {
   "cell_type": "code",
   "execution_count": 11,
   "id": "1c2d39f5",
   "metadata": {},
   "outputs": [],
   "source": [
    "zz=out.toDF(['id','start year','start month','start day','start hour','start minute','start julian','end year','end month','end day','end hour','end minute','trip seconds','trip miles','pickup census tract','dropoff census tract','pickup community area','dropoff community area','fare','tip','addcharge','trip total','st auth','pool','pickup lat','pickup lon','dropoff lat','dropoff lon'])"
   ]
  },
  {
   "cell_type": "code",
   "execution_count": 164,
   "id": "de017a2a",
   "metadata": {},
   "outputs": [
    {
     "name": "stdout",
     "output_type": "stream",
     "text": [
      "+---------+----------+-----------+---------+----------+------------+------------------+--------+---------+-------+--------+----------+------------+------------------+-------------------+--------------------+---------------------+----------------------+----+----+------------------+------------------+-------+----+-------------+--------------+-------------+--------------+\n",
      "|       id|start year|start month|start day|start hour|start minute|      start julian|end year|end month|end day|end hour|end minute|trip seconds|        trip miles|pickup census tract|dropoff census tract|pickup community area|dropoff community area|fare| tip|         addcharge|        trip total|st auth|pool|   pickup lat|    pickup lon|  dropoff lat|   dropoff lon|\n",
      "+---------+----------+-----------+---------+----------+------------+------------------+--------+---------+-------+--------+----------+------------+------------------+-------------------+--------------------+---------------------+----------------------+----+----+------------------+------------------+-------+----+-------------+--------------+-------------+--------------+\n",
      "|196026678|      2021|          1|       28|        15|          15|2459242.6250000005|    2021|        1|     28|      15|        45|        1771| 7.099999904632568|                  0|                   0|                   -1|                    24|12.5| 0.0|3.0999999046325684|15.600000381469727|      0|   1|         -1.0|          -1.0|41.9012069941|-87.6763559892|\n",
      "|196026681|      2021|          1|       30|        15|          15|2459244.6250000005|    2021|        1|     30|      15|        30|         646| 4.599999904632568|                  0|                   0|                   34|                    32|10.0| 0.0|3.0999999046325684|13.100000381469727|      0|   1|41.8420761168|-87.6339734222|41.8788655841|-87.6251921424|\n",
      "|196026685|      2021|          1|       27|         8|           0| 2459241.833333334|    2021|        1|     27|       8|        15|        1663|14.199999809265137|        17031020802|         17031841100|                    2|                    34|20.0| 3.0|3.0999999046325684|26.100000381469727|      0|   1| 41.994059824|-87.6946307194| 1.8510178239|-87.6350918563|\n",
      "|196026689|      2021|          1|       29|        17|          30| 2459243.708333334|    2021|        1|     29|      18|         0|        1516|               8.0|        17031242200|         17031150300|                   24|                    15|17.5| 3.0|3.0999999046325684|23.600000381469727|      0|   1|41.8995897957|-87.6747191345|41.9605182177|-87.7622859818|\n",
      "|196026690|      2021|          1|        6|        20|           0| 2459220.833333334|    2021|        1|      6|      20|        45|        3191|              44.5|                  0|                   0|                   -1|                    -1|52.5|12.0| 3.069999933242798| 67.56999969482422|      0|   1|         -1.0|          -1.0|         -1.0|          -1.0|\n",
      "|196026692|      2021|          1|        7|        13|          15|2459221.5416666674|    2021|        1|      7|      13|        30|         812| 5.099999904632568|                  0|                   0|                   38|                    43|10.0| 0.0|3.0999999046325684|13.100000381469727|      0|   1|41.8129489392|-87.6178596758|41.7615779081|-87.5727819867|\n",
      "|196026694|      2021|          1|       27|        16|          15|2459241.6666666674|    2021|        1|     27|      16|        15|         487|               1.0|        17031081500|         17031320100|                    8|                    32| 7.5| 0.0|2.9800000190734863|10.479999542236328|      0|   1|41.8925077809|-87.6262149064|41.8849871918|-87.6209929134|\n",
      "|196026695|      2021|          1|       15|        23|          30| 2459229.958333334|    2021|        1|     15|      23|        45|        1362|15.199999809265137|                  0|                   0|                    3|                    25|20.0| 0.0|3.0999999046325684|23.100000381469727|      0|   1|  41.96581197|-87.6558787862| 0.8906088526|-87.7560467111|\n",
      "|196026696|      2021|          1|       30|        21|          45|2459244.8750000005|    2021|        1|     30|      21|        45|         135|0.4000000059604645|        17031070400|         17031070300|                    7|                     7| 7.5| 0.0|3.0999999046325684|10.600000381469727|      0|   1|41.9289672664|-87.6561568309|41.9290469366|-87.6513108767|\n",
      "|196026702|      2021|          1|       26|        17|          15| 2459240.708333334|    2021|        1|     26|      17|        45|        1558|13.199999809265137|        17031242400|         17031430200|                   24|                    43|22.5| 0.0|1.2300000190734863|23.729999542236328|      0|   1|41.8994222543| -87.684490122| 1.7696904664|-87.5813495087|\n",
      "|196026710|      2021|          1|       20|         8|          45| 2459234.833333334|    2021|        1|     20|       9|         0|        1016| 6.699999809265137|                  0|                   0|                   35|                    58|12.5| 0.0|1.2300000190734863|13.729999542236328|      0|   1|41.8351179863|-87.6186777673|41.8173662079|-87.6988607973|\n",
      "|196026712|      2021|          1|       20|        19|          15|2459234.7916666674|    2021|        1|     20|      19|        30|         445|1.7000000476837158|        17031030103|         17031031300|                   77|                     3| 5.0| 3.0| 3.369999885559082|11.369999885559082|      0|   1|41.9955129914|-87.6558149022|41.9729293173|-87.6502900743|\n",
      "|196026713|      2021|          1|       30|         1|           0|2459244.5416666674|    2021|        1|     30|       1|        15|        1019| 5.400000095367432|                  0|                   0|                    8|                    23|15.0| 0.0|3.0999999046325684|18.100000381469727|      0|   1| 41.899602111|-87.6333080367| 1.9000696026|-87.7209182385|\n",
      "|196026714|      2021|          1|       22|        23|          30| 2459236.958333334|    2021|        1|     22|      23|        45|         582| 2.299999952316284|                  0|                   0|                    1|                    77| 7.5| 0.0|3.0999999046325684|10.600000381469727|      0|   1|42.0096228806|-87.6701668569|41.9867117999|-87.6634164054|\n",
      "|196026721|      2021|          1|        9|         8|          30| 2459223.833333334|    2021|        1|      9|       8|        45|        1155| 9.300000190734863|        17031590600|         17031081201|                   59|                     8|12.5| 0.0|3.0999999046325684|15.600000381469727|      0|   1|41.8268330147|-87.6729255394|41.8991556134|-87.6262105324|\n",
      "|196026723|      2021|          1|        5|        15|          30|2459219.6250000005|    2021|        1|      5|      15|        45|         704| 2.799999952316284|        17031842500|         17031834200|                   69|                    43|10.0| 0.0|3.0999999046325684|13.100000381469727|      0|   1|41.7769437808|-87.6232200288|41.7555681774|-87.5836072899|\n",
      "|196026737|      2021|          1|       14|        16|          30|2459228.6666666674|    2021|        1|     14|      16|        45|         981|               3.0|        17031081402|         17031841900|                    8|                    28|12.5| 0.0|2.9800000190734863|15.479999542236328|      0|   1|41.8919715078|-87.6129454143|41.8679024175|-87.6429586652|\n",
      "|196026739|      2021|          1|       29|        23|          30| 2459243.958333334|    2021|        1|     29|      23|        45|         865| 4.699999809265137|        17031081500|         17031832400|                    8|                    22|17.5| 0.0|3.0999999046325684|20.600000381469727|      0|   1|41.8925077809|-87.6262149064|41.9157411934|-87.6922563262|\n",
      "|196026744|      2021|          1|       12|        15|           0|2459226.6250000005|    2021|        1|     12|      15|        15|         267| 0.800000011920929|                  0|                   0|                    3|                     3| 5.0| 0.0|1.2300000190734863| 6.230000019073486|      0|   1|  41.96581197|-87.6558787862|   0.96581197|-87.6558787862|\n",
      "|196026745|      2021|          1|        6|        15|          45|2459220.6250000005|    2021|        1|      6|      16|         0|         951| 4.699999809265137|                  0|                   0|                   29|                    25|12.5| 0.0|1.2300000190734863|13.729999542236328|      0|   1|41.8601900192|   -87.7172201|8.906088526E9|-87.7560467111|\n",
      "+---------+----------+-----------+---------+----------+------------+------------------+--------+---------+-------+--------+----------+------------+------------------+-------------------+--------------------+---------------------+----------------------+----+----+------------------+------------------+-------+----+-------------+--------------+-------------+--------------+\n",
      "only showing top 20 rows\n",
      "\n"
     ]
    }
   ],
   "source": [
    "zz.show()"
   ]
  },
  {
   "cell_type": "code",
   "execution_count": 242,
   "id": "c23ccbdd",
   "metadata": {},
   "outputs": [],
   "source": [
    "to_jday = F.udf(lambda row: pd.Timestamp(row[0],row[1],row[2],row[3]).to_julian_date())"
   ]
  },
  {
   "cell_type": "code",
   "execution_count": 250,
   "id": "08f95806",
   "metadata": {},
   "outputs": [],
   "source": [
    "to_dt = F.udf(lambda row: datetime(row[0],row[1],row[2],row[3]))"
   ]
  },
  {
   "cell_type": "code",
   "execution_count": 113,
   "id": "46517069",
   "metadata": {},
   "outputs": [
    {
     "data": {
      "text/plain": [
       "DataFrame[id: bigint, start year: bigint, start month: bigint, start day: bigint, start hour: bigint, start minute: bigint, end year: bigint, end month: bigint, end day: bigint, end hour: bigint, end minute: bigint, trip seconds: bigint, trip miles: double, pickup census tract: bigint, dropoff census tract: bigint, pickup community area: bigint, dropoff community area: bigint, fare: double, tip: double, addcharge: double, trip total: double, st auth: bigint, pool: bigint, pickup lat: double, pickup lon: double, dropoff lat: double, dropoff lon: double, loop to ohare: boolean]"
      ]
     },
     "execution_count": 113,
     "metadata": {},
     "output_type": "execute_result"
    }
   ],
   "source": [
    "zz.withColumn('loop to ohare',(zz['dropoff community area']==74) & (zz['pickup community area']==32))"
   ]
  },
  {
   "cell_type": "code",
   "execution_count": 246,
   "id": "557ab291",
   "metadata": {},
   "outputs": [],
   "source": [
    "repeater = F.udf(lambda x: x[0]*365.25*24+(x[1]-1)*30.5*24+(x[2]-1)*24+x[3])"
   ]
  },
  {
   "cell_type": "code",
   "execution_count": 251,
   "id": "0aacf721",
   "metadata": {},
   "outputs": [],
   "source": [
    "zzt=zz.withColumn('repeated',to_dt(F.struct([zz[x] for x in zz.columns])))"
   ]
  },
  {
   "cell_type": "code",
   "execution_count": 252,
   "id": "87a55eff",
   "metadata": {},
   "outputs": [
    {
     "name": "stderr",
     "output_type": "stream",
     "text": [
      "22/07/16 16:31:44 ERROR Executor: Exception in task 0.0 in stage 61.0 (TID 3812)\n",
      "org.apache.spark.api.python.PythonException: Traceback (most recent call last):\n",
      "  File \"/home/benjamin/anaconda3/lib/python3.9/site-packages/pyspark/python/lib/pyspark.zip/pyspark/worker.py\", line 604, in main\n",
      "    process()\n",
      "  File \"/home/benjamin/anaconda3/lib/python3.9/site-packages/pyspark/python/lib/pyspark.zip/pyspark/worker.py\", line 596, in process\n",
      "    serializer.dump_stream(out_iter, outfile)\n",
      "  File \"/home/benjamin/anaconda3/lib/python3.9/site-packages/pyspark/python/lib/pyspark.zip/pyspark/serializers.py\", line 211, in dump_stream\n",
      "    self.serializer.dump_stream(self._batched(iterator), stream)\n",
      "  File \"/home/benjamin/anaconda3/lib/python3.9/site-packages/pyspark/python/lib/pyspark.zip/pyspark/serializers.py\", line 132, in dump_stream\n",
      "    for obj in iterator:\n",
      "  File \"/home/benjamin/anaconda3/lib/python3.9/site-packages/pyspark/python/lib/pyspark.zip/pyspark/serializers.py\", line 200, in _batched\n",
      "    for item in iterator:\n",
      "  File \"/home/benjamin/anaconda3/lib/python3.9/site-packages/pyspark/python/lib/pyspark.zip/pyspark/worker.py\", line 450, in mapper\n",
      "    result = tuple(f(*[a[o] for o in arg_offsets]) for (arg_offsets, f) in udfs)\n",
      "  File \"/home/benjamin/anaconda3/lib/python3.9/site-packages/pyspark/python/lib/pyspark.zip/pyspark/worker.py\", line 450, in <genexpr>\n",
      "    result = tuple(f(*[a[o] for o in arg_offsets]) for (arg_offsets, f) in udfs)\n",
      "  File \"/home/benjamin/anaconda3/lib/python3.9/site-packages/pyspark/python/lib/pyspark.zip/pyspark/worker.py\", line 85, in <lambda>\n",
      "    return lambda *a: f(*a)\n",
      "  File \"/home/benjamin/anaconda3/lib/python3.9/site-packages/pyspark/python/lib/pyspark.zip/pyspark/util.py\", line 73, in wrapper\n",
      "    return f(*args, **kwargs)\n",
      "  File \"/tmp/ipykernel_9512/3604848884.py\", line 1, in <lambda>\n",
      "ValueError: year 41462311 is out of range\n",
      "\n",
      "\tat org.apache.spark.api.python.BasePythonRunner$ReaderIterator.handlePythonException(PythonRunner.scala:517)\n",
      "\tat org.apache.spark.sql.execution.python.PythonUDFRunner$$anon$2.read(PythonUDFRunner.scala:84)\n",
      "\tat org.apache.spark.sql.execution.python.PythonUDFRunner$$anon$2.read(PythonUDFRunner.scala:67)\n",
      "\tat org.apache.spark.api.python.BasePythonRunner$ReaderIterator.hasNext(PythonRunner.scala:470)\n",
      "\tat org.apache.spark.InterruptibleIterator.hasNext(InterruptibleIterator.scala:37)\n",
      "\tat scala.collection.Iterator$$anon$11.hasNext(Iterator.scala:489)\n",
      "\tat scala.collection.Iterator$$anon$10.hasNext(Iterator.scala:458)\n",
      "\tat scala.collection.Iterator$$anon$10.hasNext(Iterator.scala:458)\n",
      "\tat org.apache.spark.sql.catalyst.expressions.GeneratedClass$GeneratedIteratorForCodegenStage2.processNext(Unknown Source)\n",
      "\tat org.apache.spark.sql.execution.BufferedRowIterator.hasNext(BufferedRowIterator.java:43)\n",
      "\tat org.apache.spark.sql.execution.WholeStageCodegenExec$$anon$1.hasNext(WholeStageCodegenExec.scala:755)\n",
      "\tat org.apache.spark.sql.execution.SparkPlan.$anonfun$getByteArrayRdd$1(SparkPlan.scala:345)\n",
      "\tat org.apache.spark.rdd.RDD.$anonfun$mapPartitionsInternal$2(RDD.scala:898)\n",
      "\tat org.apache.spark.rdd.RDD.$anonfun$mapPartitionsInternal$2$adapted(RDD.scala:898)\n",
      "\tat org.apache.spark.rdd.MapPartitionsRDD.compute(MapPartitionsRDD.scala:52)\n",
      "\tat org.apache.spark.rdd.RDD.computeOrReadCheckpoint(RDD.scala:373)\n",
      "\tat org.apache.spark.rdd.RDD.iterator(RDD.scala:337)\n",
      "\tat org.apache.spark.scheduler.ResultTask.runTask(ResultTask.scala:90)\n",
      "\tat org.apache.spark.scheduler.Task.run(Task.scala:131)\n",
      "\tat org.apache.spark.executor.Executor$TaskRunner.$anonfun$run$3(Executor.scala:497)\n",
      "\tat org.apache.spark.util.Utils$.tryWithSafeFinally(Utils.scala:1439)\n",
      "\tat org.apache.spark.executor.Executor$TaskRunner.run(Executor.scala:500)\n",
      "\tat java.base/java.util.concurrent.ThreadPoolExecutor.runWorker(ThreadPoolExecutor.java:1128)\n",
      "\tat java.base/java.util.concurrent.ThreadPoolExecutor$Worker.run(ThreadPoolExecutor.java:628)\n",
      "\tat java.base/java.lang.Thread.run(Thread.java:829)\n",
      "22/07/16 16:31:44 WARN TaskSetManager: Lost task 0.0 in stage 61.0 (TID 3812) (benjamin-precision executor driver): org.apache.spark.api.python.PythonException: Traceback (most recent call last):\n",
      "  File \"/home/benjamin/anaconda3/lib/python3.9/site-packages/pyspark/python/lib/pyspark.zip/pyspark/worker.py\", line 604, in main\n",
      "    process()\n",
      "  File \"/home/benjamin/anaconda3/lib/python3.9/site-packages/pyspark/python/lib/pyspark.zip/pyspark/worker.py\", line 596, in process\n",
      "    serializer.dump_stream(out_iter, outfile)\n",
      "  File \"/home/benjamin/anaconda3/lib/python3.9/site-packages/pyspark/python/lib/pyspark.zip/pyspark/serializers.py\", line 211, in dump_stream\n",
      "    self.serializer.dump_stream(self._batched(iterator), stream)\n",
      "  File \"/home/benjamin/anaconda3/lib/python3.9/site-packages/pyspark/python/lib/pyspark.zip/pyspark/serializers.py\", line 132, in dump_stream\n",
      "    for obj in iterator:\n",
      "  File \"/home/benjamin/anaconda3/lib/python3.9/site-packages/pyspark/python/lib/pyspark.zip/pyspark/serializers.py\", line 200, in _batched\n",
      "    for item in iterator:\n",
      "  File \"/home/benjamin/anaconda3/lib/python3.9/site-packages/pyspark/python/lib/pyspark.zip/pyspark/worker.py\", line 450, in mapper\n",
      "    result = tuple(f(*[a[o] for o in arg_offsets]) for (arg_offsets, f) in udfs)\n",
      "  File \"/home/benjamin/anaconda3/lib/python3.9/site-packages/pyspark/python/lib/pyspark.zip/pyspark/worker.py\", line 450, in <genexpr>\n",
      "    result = tuple(f(*[a[o] for o in arg_offsets]) for (arg_offsets, f) in udfs)\n",
      "  File \"/home/benjamin/anaconda3/lib/python3.9/site-packages/pyspark/python/lib/pyspark.zip/pyspark/worker.py\", line 85, in <lambda>\n",
      "    return lambda *a: f(*a)\n",
      "  File \"/home/benjamin/anaconda3/lib/python3.9/site-packages/pyspark/python/lib/pyspark.zip/pyspark/util.py\", line 73, in wrapper\n",
      "    return f(*args, **kwargs)\n",
      "  File \"/tmp/ipykernel_9512/3604848884.py\", line 1, in <lambda>\n",
      "ValueError: year 41462311 is out of range\n",
      "\n",
      "\tat org.apache.spark.api.python.BasePythonRunner$ReaderIterator.handlePythonException(PythonRunner.scala:517)\n",
      "\tat org.apache.spark.sql.execution.python.PythonUDFRunner$$anon$2.read(PythonUDFRunner.scala:84)\n",
      "\tat org.apache.spark.sql.execution.python.PythonUDFRunner$$anon$2.read(PythonUDFRunner.scala:67)\n",
      "\tat org.apache.spark.api.python.BasePythonRunner$ReaderIterator.hasNext(PythonRunner.scala:470)\n",
      "\tat org.apache.spark.InterruptibleIterator.hasNext(InterruptibleIterator.scala:37)\n",
      "\tat scala.collection.Iterator$$anon$11.hasNext(Iterator.scala:489)\n",
      "\tat scala.collection.Iterator$$anon$10.hasNext(Iterator.scala:458)\n",
      "\tat scala.collection.Iterator$$anon$10.hasNext(Iterator.scala:458)\n",
      "\tat org.apache.spark.sql.catalyst.expressions.GeneratedClass$GeneratedIteratorForCodegenStage2.processNext(Unknown Source)\n",
      "\tat org.apache.spark.sql.execution.BufferedRowIterator.hasNext(BufferedRowIterator.java:43)\n",
      "\tat org.apache.spark.sql.execution.WholeStageCodegenExec$$anon$1.hasNext(WholeStageCodegenExec.scala:755)\n",
      "\tat org.apache.spark.sql.execution.SparkPlan.$anonfun$getByteArrayRdd$1(SparkPlan.scala:345)\n",
      "\tat org.apache.spark.rdd.RDD.$anonfun$mapPartitionsInternal$2(RDD.scala:898)\n",
      "\tat org.apache.spark.rdd.RDD.$anonfun$mapPartitionsInternal$2$adapted(RDD.scala:898)\n",
      "\tat org.apache.spark.rdd.MapPartitionsRDD.compute(MapPartitionsRDD.scala:52)\n",
      "\tat org.apache.spark.rdd.RDD.computeOrReadCheckpoint(RDD.scala:373)\n",
      "\tat org.apache.spark.rdd.RDD.iterator(RDD.scala:337)\n",
      "\tat org.apache.spark.scheduler.ResultTask.runTask(ResultTask.scala:90)\n",
      "\tat org.apache.spark.scheduler.Task.run(Task.scala:131)\n",
      "\tat org.apache.spark.executor.Executor$TaskRunner.$anonfun$run$3(Executor.scala:497)\n",
      "\tat org.apache.spark.util.Utils$.tryWithSafeFinally(Utils.scala:1439)\n",
      "\tat org.apache.spark.executor.Executor$TaskRunner.run(Executor.scala:500)\n",
      "\tat java.base/java.util.concurrent.ThreadPoolExecutor.runWorker(ThreadPoolExecutor.java:1128)\n",
      "\tat java.base/java.util.concurrent.ThreadPoolExecutor$Worker.run(ThreadPoolExecutor.java:628)\n",
      "\tat java.base/java.lang.Thread.run(Thread.java:829)\n",
      "\n",
      "22/07/16 16:31:44 ERROR TaskSetManager: Task 0 in stage 61.0 failed 1 times; aborting job\n"
     ]
    },
    {
     "ename": "PythonException",
     "evalue": "\n  An exception was thrown from the Python worker. Please see the stack trace below.\nTraceback (most recent call last):\n  File \"/home/benjamin/anaconda3/lib/python3.9/site-packages/pyspark/python/lib/pyspark.zip/pyspark/worker.py\", line 604, in main\n    process()\n  File \"/home/benjamin/anaconda3/lib/python3.9/site-packages/pyspark/python/lib/pyspark.zip/pyspark/worker.py\", line 596, in process\n    serializer.dump_stream(out_iter, outfile)\n  File \"/home/benjamin/anaconda3/lib/python3.9/site-packages/pyspark/python/lib/pyspark.zip/pyspark/serializers.py\", line 211, in dump_stream\n    self.serializer.dump_stream(self._batched(iterator), stream)\n  File \"/home/benjamin/anaconda3/lib/python3.9/site-packages/pyspark/python/lib/pyspark.zip/pyspark/serializers.py\", line 132, in dump_stream\n    for obj in iterator:\n  File \"/home/benjamin/anaconda3/lib/python3.9/site-packages/pyspark/python/lib/pyspark.zip/pyspark/serializers.py\", line 200, in _batched\n    for item in iterator:\n  File \"/home/benjamin/anaconda3/lib/python3.9/site-packages/pyspark/python/lib/pyspark.zip/pyspark/worker.py\", line 450, in mapper\n    result = tuple(f(*[a[o] for o in arg_offsets]) for (arg_offsets, f) in udfs)\n  File \"/home/benjamin/anaconda3/lib/python3.9/site-packages/pyspark/python/lib/pyspark.zip/pyspark/worker.py\", line 450, in <genexpr>\n    result = tuple(f(*[a[o] for o in arg_offsets]) for (arg_offsets, f) in udfs)\n  File \"/home/benjamin/anaconda3/lib/python3.9/site-packages/pyspark/python/lib/pyspark.zip/pyspark/worker.py\", line 85, in <lambda>\n    return lambda *a: f(*a)\n  File \"/home/benjamin/anaconda3/lib/python3.9/site-packages/pyspark/python/lib/pyspark.zip/pyspark/util.py\", line 73, in wrapper\n    return f(*args, **kwargs)\n  File \"/tmp/ipykernel_9512/3604848884.py\", line 1, in <lambda>\nValueError: year 41462311 is out of range\n",
     "output_type": "error",
     "traceback": [
      "\u001b[0;31m---------------------------------------------------------------------------\u001b[0m",
      "\u001b[0;31mPythonException\u001b[0m                           Traceback (most recent call last)",
      "\u001b[0;32m/tmp/ipykernel_9512/3166540989.py\u001b[0m in \u001b[0;36m<module>\u001b[0;34m\u001b[0m\n\u001b[0;32m----> 1\u001b[0;31m \u001b[0mzzt\u001b[0m\u001b[0;34m.\u001b[0m\u001b[0mshow\u001b[0m\u001b[0;34m(\u001b[0m\u001b[0;34m)\u001b[0m\u001b[0;34m\u001b[0m\u001b[0;34m\u001b[0m\u001b[0m\n\u001b[0m",
      "\u001b[0;32m~/anaconda3/lib/python3.9/site-packages/pyspark/sql/dataframe.py\u001b[0m in \u001b[0;36mshow\u001b[0;34m(self, n, truncate, vertical)\u001b[0m\n\u001b[1;32m    482\u001b[0m         \"\"\"\n\u001b[1;32m    483\u001b[0m         \u001b[0;32mif\u001b[0m \u001b[0misinstance\u001b[0m\u001b[0;34m(\u001b[0m\u001b[0mtruncate\u001b[0m\u001b[0;34m,\u001b[0m \u001b[0mbool\u001b[0m\u001b[0;34m)\u001b[0m \u001b[0;32mand\u001b[0m \u001b[0mtruncate\u001b[0m\u001b[0;34m:\u001b[0m\u001b[0;34m\u001b[0m\u001b[0;34m\u001b[0m\u001b[0m\n\u001b[0;32m--> 484\u001b[0;31m             \u001b[0mprint\u001b[0m\u001b[0;34m(\u001b[0m\u001b[0mself\u001b[0m\u001b[0;34m.\u001b[0m\u001b[0m_jdf\u001b[0m\u001b[0;34m.\u001b[0m\u001b[0mshowString\u001b[0m\u001b[0;34m(\u001b[0m\u001b[0mn\u001b[0m\u001b[0;34m,\u001b[0m \u001b[0;36m20\u001b[0m\u001b[0;34m,\u001b[0m \u001b[0mvertical\u001b[0m\u001b[0;34m)\u001b[0m\u001b[0;34m)\u001b[0m\u001b[0;34m\u001b[0m\u001b[0;34m\u001b[0m\u001b[0m\n\u001b[0m\u001b[1;32m    485\u001b[0m         \u001b[0;32melse\u001b[0m\u001b[0;34m:\u001b[0m\u001b[0;34m\u001b[0m\u001b[0;34m\u001b[0m\u001b[0m\n\u001b[1;32m    486\u001b[0m             \u001b[0mprint\u001b[0m\u001b[0;34m(\u001b[0m\u001b[0mself\u001b[0m\u001b[0;34m.\u001b[0m\u001b[0m_jdf\u001b[0m\u001b[0;34m.\u001b[0m\u001b[0mshowString\u001b[0m\u001b[0;34m(\u001b[0m\u001b[0mn\u001b[0m\u001b[0;34m,\u001b[0m \u001b[0mint\u001b[0m\u001b[0;34m(\u001b[0m\u001b[0mtruncate\u001b[0m\u001b[0;34m)\u001b[0m\u001b[0;34m,\u001b[0m \u001b[0mvertical\u001b[0m\u001b[0;34m)\u001b[0m\u001b[0;34m)\u001b[0m\u001b[0;34m\u001b[0m\u001b[0;34m\u001b[0m\u001b[0m\n",
      "\u001b[0;32m~/anaconda3/lib/python3.9/site-packages/py4j/java_gateway.py\u001b[0m in \u001b[0;36m__call__\u001b[0;34m(self, *args)\u001b[0m\n\u001b[1;32m   1307\u001b[0m \u001b[0;34m\u001b[0m\u001b[0m\n\u001b[1;32m   1308\u001b[0m         \u001b[0manswer\u001b[0m \u001b[0;34m=\u001b[0m \u001b[0mself\u001b[0m\u001b[0;34m.\u001b[0m\u001b[0mgateway_client\u001b[0m\u001b[0;34m.\u001b[0m\u001b[0msend_command\u001b[0m\u001b[0;34m(\u001b[0m\u001b[0mcommand\u001b[0m\u001b[0;34m)\u001b[0m\u001b[0;34m\u001b[0m\u001b[0;34m\u001b[0m\u001b[0m\n\u001b[0;32m-> 1309\u001b[0;31m         return_value = get_return_value(\n\u001b[0m\u001b[1;32m   1310\u001b[0m             answer, self.gateway_client, self.target_id, self.name)\n\u001b[1;32m   1311\u001b[0m \u001b[0;34m\u001b[0m\u001b[0m\n",
      "\u001b[0;32m~/anaconda3/lib/python3.9/site-packages/pyspark/sql/utils.py\u001b[0m in \u001b[0;36mdeco\u001b[0;34m(*a, **kw)\u001b[0m\n\u001b[1;32m    115\u001b[0m                 \u001b[0;31m# Hide where the exception came from that shows a non-Pythonic\u001b[0m\u001b[0;34m\u001b[0m\u001b[0;34m\u001b[0m\u001b[0m\n\u001b[1;32m    116\u001b[0m                 \u001b[0;31m# JVM exception message.\u001b[0m\u001b[0;34m\u001b[0m\u001b[0;34m\u001b[0m\u001b[0m\n\u001b[0;32m--> 117\u001b[0;31m                 \u001b[0;32mraise\u001b[0m \u001b[0mconverted\u001b[0m \u001b[0;32mfrom\u001b[0m \u001b[0;32mNone\u001b[0m\u001b[0;34m\u001b[0m\u001b[0;34m\u001b[0m\u001b[0m\n\u001b[0m\u001b[1;32m    118\u001b[0m             \u001b[0;32melse\u001b[0m\u001b[0;34m:\u001b[0m\u001b[0;34m\u001b[0m\u001b[0;34m\u001b[0m\u001b[0m\n\u001b[1;32m    119\u001b[0m                 \u001b[0;32mraise\u001b[0m\u001b[0;34m\u001b[0m\u001b[0;34m\u001b[0m\u001b[0m\n",
      "\u001b[0;31mPythonException\u001b[0m: \n  An exception was thrown from the Python worker. Please see the stack trace below.\nTraceback (most recent call last):\n  File \"/home/benjamin/anaconda3/lib/python3.9/site-packages/pyspark/python/lib/pyspark.zip/pyspark/worker.py\", line 604, in main\n    process()\n  File \"/home/benjamin/anaconda3/lib/python3.9/site-packages/pyspark/python/lib/pyspark.zip/pyspark/worker.py\", line 596, in process\n    serializer.dump_stream(out_iter, outfile)\n  File \"/home/benjamin/anaconda3/lib/python3.9/site-packages/pyspark/python/lib/pyspark.zip/pyspark/serializers.py\", line 211, in dump_stream\n    self.serializer.dump_stream(self._batched(iterator), stream)\n  File \"/home/benjamin/anaconda3/lib/python3.9/site-packages/pyspark/python/lib/pyspark.zip/pyspark/serializers.py\", line 132, in dump_stream\n    for obj in iterator:\n  File \"/home/benjamin/anaconda3/lib/python3.9/site-packages/pyspark/python/lib/pyspark.zip/pyspark/serializers.py\", line 200, in _batched\n    for item in iterator:\n  File \"/home/benjamin/anaconda3/lib/python3.9/site-packages/pyspark/python/lib/pyspark.zip/pyspark/worker.py\", line 450, in mapper\n    result = tuple(f(*[a[o] for o in arg_offsets]) for (arg_offsets, f) in udfs)\n  File \"/home/benjamin/anaconda3/lib/python3.9/site-packages/pyspark/python/lib/pyspark.zip/pyspark/worker.py\", line 450, in <genexpr>\n    result = tuple(f(*[a[o] for o in arg_offsets]) for (arg_offsets, f) in udfs)\n  File \"/home/benjamin/anaconda3/lib/python3.9/site-packages/pyspark/python/lib/pyspark.zip/pyspark/worker.py\", line 85, in <lambda>\n    return lambda *a: f(*a)\n  File \"/home/benjamin/anaconda3/lib/python3.9/site-packages/pyspark/python/lib/pyspark.zip/pyspark/util.py\", line 73, in wrapper\n    return f(*args, **kwargs)\n  File \"/tmp/ipykernel_9512/3604848884.py\", line 1, in <lambda>\nValueError: year 41462311 is out of range\n"
     ]
    }
   ],
   "source": [
    "zzt.show()"
   ]
  },
  {
   "cell_type": "code",
   "execution_count": 209,
   "id": "28fb0540",
   "metadata": {
    "scrolled": true
   },
   "outputs": [],
   "source": [
    "bd=F.struct([zz[x] for x in zz.columns])"
   ]
  },
  {
   "cell_type": "code",
   "execution_count": 218,
   "id": "fd5d7ab5",
   "metadata": {},
   "outputs": [],
   "source": [
    "p=repeater(bd)"
   ]
  },
  {
   "cell_type": "code",
   "execution_count": 165,
   "id": "8820e2a7",
   "metadata": {
    "scrolled": true
   },
   "outputs": [],
   "source": [
    "ab=zz.groupby(['start year','start month','start day','start hour','start julian','pickup community area']).count()"
   ]
  },
  {
   "cell_type": "code",
   "execution_count": 166,
   "id": "1233ec9b",
   "metadata": {},
   "outputs": [],
   "source": [
    "ab32=ab.where(ab['pickup community area']==32)"
   ]
  },
  {
   "cell_type": "code",
   "execution_count": 167,
   "id": "eb5685f5",
   "metadata": {
    "scrolled": true
   },
   "outputs": [
    {
     "name": "stderr",
     "output_type": "stream",
     "text": [
      "                                                                                \r"
     ]
    }
   ],
   "source": [
    "zb2=ab32.sort(['start year','start month','start day','start hour']).toPandas()"
   ]
  },
  {
   "cell_type": "code",
   "execution_count": 158,
   "id": "f4a814a2",
   "metadata": {},
   "outputs": [
    {
     "data": {
      "text/html": [
       "<div>\n",
       "<style scoped>\n",
       "    .dataframe tbody tr th:only-of-type {\n",
       "        vertical-align: middle;\n",
       "    }\n",
       "\n",
       "    .dataframe tbody tr th {\n",
       "        vertical-align: top;\n",
       "    }\n",
       "\n",
       "    .dataframe thead th {\n",
       "        text-align: right;\n",
       "    }\n",
       "</style>\n",
       "<table border=\"1\" class=\"dataframe\">\n",
       "  <thead>\n",
       "    <tr style=\"text-align: right;\">\n",
       "      <th></th>\n",
       "      <th>start year</th>\n",
       "      <th>start month</th>\n",
       "      <th>start day</th>\n",
       "      <th>start hour</th>\n",
       "      <th>pickup community area</th>\n",
       "      <th>count</th>\n",
       "    </tr>\n",
       "  </thead>\n",
       "  <tbody>\n",
       "    <tr>\n",
       "      <th>3622</th>\n",
       "      <td>2020</td>\n",
       "      <td>10</td>\n",
       "      <td>29</td>\n",
       "      <td>22</td>\n",
       "      <td>32</td>\n",
       "      <td>279</td>\n",
       "    </tr>\n",
       "    <tr>\n",
       "      <th>3623</th>\n",
       "      <td>2020</td>\n",
       "      <td>10</td>\n",
       "      <td>29</td>\n",
       "      <td>23</td>\n",
       "      <td>32</td>\n",
       "      <td>185</td>\n",
       "    </tr>\n",
       "    <tr>\n",
       "      <th>3624</th>\n",
       "      <td>2020</td>\n",
       "      <td>10</td>\n",
       "      <td>30</td>\n",
       "      <td>0</td>\n",
       "      <td>32</td>\n",
       "      <td>98</td>\n",
       "    </tr>\n",
       "    <tr>\n",
       "      <th>3625</th>\n",
       "      <td>2020</td>\n",
       "      <td>10</td>\n",
       "      <td>30</td>\n",
       "      <td>1</td>\n",
       "      <td>32</td>\n",
       "      <td>53</td>\n",
       "    </tr>\n",
       "    <tr>\n",
       "      <th>3626</th>\n",
       "      <td>2020</td>\n",
       "      <td>10</td>\n",
       "      <td>30</td>\n",
       "      <td>2</td>\n",
       "      <td>32</td>\n",
       "      <td>33</td>\n",
       "    </tr>\n",
       "    <tr>\n",
       "      <th>3627</th>\n",
       "      <td>2020</td>\n",
       "      <td>10</td>\n",
       "      <td>30</td>\n",
       "      <td>3</td>\n",
       "      <td>32</td>\n",
       "      <td>21</td>\n",
       "    </tr>\n",
       "    <tr>\n",
       "      <th>3628</th>\n",
       "      <td>2020</td>\n",
       "      <td>10</td>\n",
       "      <td>30</td>\n",
       "      <td>4</td>\n",
       "      <td>32</td>\n",
       "      <td>28</td>\n",
       "    </tr>\n",
       "    <tr>\n",
       "      <th>3629</th>\n",
       "      <td>2020</td>\n",
       "      <td>10</td>\n",
       "      <td>30</td>\n",
       "      <td>5</td>\n",
       "      <td>32</td>\n",
       "      <td>80</td>\n",
       "    </tr>\n",
       "    <tr>\n",
       "      <th>3630</th>\n",
       "      <td>2020</td>\n",
       "      <td>10</td>\n",
       "      <td>30</td>\n",
       "      <td>6</td>\n",
       "      <td>32</td>\n",
       "      <td>146</td>\n",
       "    </tr>\n",
       "    <tr>\n",
       "      <th>3631</th>\n",
       "      <td>2020</td>\n",
       "      <td>10</td>\n",
       "      <td>30</td>\n",
       "      <td>7</td>\n",
       "      <td>32</td>\n",
       "      <td>202</td>\n",
       "    </tr>\n",
       "    <tr>\n",
       "      <th>3632</th>\n",
       "      <td>2020</td>\n",
       "      <td>10</td>\n",
       "      <td>30</td>\n",
       "      <td>8</td>\n",
       "      <td>32</td>\n",
       "      <td>275</td>\n",
       "    </tr>\n",
       "    <tr>\n",
       "      <th>3633</th>\n",
       "      <td>2020</td>\n",
       "      <td>10</td>\n",
       "      <td>30</td>\n",
       "      <td>9</td>\n",
       "      <td>32</td>\n",
       "      <td>259</td>\n",
       "    </tr>\n",
       "    <tr>\n",
       "      <th>3634</th>\n",
       "      <td>2020</td>\n",
       "      <td>10</td>\n",
       "      <td>30</td>\n",
       "      <td>10</td>\n",
       "      <td>32</td>\n",
       "      <td>301</td>\n",
       "    </tr>\n",
       "    <tr>\n",
       "      <th>3635</th>\n",
       "      <td>2020</td>\n",
       "      <td>10</td>\n",
       "      <td>30</td>\n",
       "      <td>11</td>\n",
       "      <td>32</td>\n",
       "      <td>366</td>\n",
       "    </tr>\n",
       "    <tr>\n",
       "      <th>3636</th>\n",
       "      <td>2020</td>\n",
       "      <td>10</td>\n",
       "      <td>30</td>\n",
       "      <td>12</td>\n",
       "      <td>32</td>\n",
       "      <td>438</td>\n",
       "    </tr>\n",
       "    <tr>\n",
       "      <th>3637</th>\n",
       "      <td>2020</td>\n",
       "      <td>10</td>\n",
       "      <td>30</td>\n",
       "      <td>13</td>\n",
       "      <td>32</td>\n",
       "      <td>445</td>\n",
       "    </tr>\n",
       "    <tr>\n",
       "      <th>3638</th>\n",
       "      <td>2020</td>\n",
       "      <td>10</td>\n",
       "      <td>30</td>\n",
       "      <td>14</td>\n",
       "      <td>32</td>\n",
       "      <td>505</td>\n",
       "    </tr>\n",
       "    <tr>\n",
       "      <th>3639</th>\n",
       "      <td>2020</td>\n",
       "      <td>10</td>\n",
       "      <td>30</td>\n",
       "      <td>15</td>\n",
       "      <td>32</td>\n",
       "      <td>522</td>\n",
       "    </tr>\n",
       "    <tr>\n",
       "      <th>3640</th>\n",
       "      <td>2020</td>\n",
       "      <td>10</td>\n",
       "      <td>30</td>\n",
       "      <td>16</td>\n",
       "      <td>32</td>\n",
       "      <td>638</td>\n",
       "    </tr>\n",
       "    <tr>\n",
       "      <th>3641</th>\n",
       "      <td>2020</td>\n",
       "      <td>10</td>\n",
       "      <td>30</td>\n",
       "      <td>17</td>\n",
       "      <td>32</td>\n",
       "      <td>771</td>\n",
       "    </tr>\n",
       "    <tr>\n",
       "      <th>3642</th>\n",
       "      <td>2020</td>\n",
       "      <td>10</td>\n",
       "      <td>30</td>\n",
       "      <td>18</td>\n",
       "      <td>32</td>\n",
       "      <td>763</td>\n",
       "    </tr>\n",
       "    <tr>\n",
       "      <th>3643</th>\n",
       "      <td>2020</td>\n",
       "      <td>10</td>\n",
       "      <td>30</td>\n",
       "      <td>19</td>\n",
       "      <td>32</td>\n",
       "      <td>655</td>\n",
       "    </tr>\n",
       "    <tr>\n",
       "      <th>3644</th>\n",
       "      <td>2020</td>\n",
       "      <td>10</td>\n",
       "      <td>30</td>\n",
       "      <td>20</td>\n",
       "      <td>32</td>\n",
       "      <td>469</td>\n",
       "    </tr>\n",
       "    <tr>\n",
       "      <th>3645</th>\n",
       "      <td>2020</td>\n",
       "      <td>10</td>\n",
       "      <td>30</td>\n",
       "      <td>21</td>\n",
       "      <td>32</td>\n",
       "      <td>375</td>\n",
       "    </tr>\n",
       "    <tr>\n",
       "      <th>3646</th>\n",
       "      <td>2020</td>\n",
       "      <td>10</td>\n",
       "      <td>30</td>\n",
       "      <td>22</td>\n",
       "      <td>32</td>\n",
       "      <td>323</td>\n",
       "    </tr>\n",
       "    <tr>\n",
       "      <th>3647</th>\n",
       "      <td>2020</td>\n",
       "      <td>10</td>\n",
       "      <td>30</td>\n",
       "      <td>23</td>\n",
       "      <td>32</td>\n",
       "      <td>238</td>\n",
       "    </tr>\n",
       "    <tr>\n",
       "      <th>3648</th>\n",
       "      <td>2020</td>\n",
       "      <td>10</td>\n",
       "      <td>31</td>\n",
       "      <td>0</td>\n",
       "      <td>32</td>\n",
       "      <td>231</td>\n",
       "    </tr>\n",
       "    <tr>\n",
       "      <th>3649</th>\n",
       "      <td>2020</td>\n",
       "      <td>10</td>\n",
       "      <td>31</td>\n",
       "      <td>1</td>\n",
       "      <td>32</td>\n",
       "      <td>151</td>\n",
       "    </tr>\n",
       "    <tr>\n",
       "      <th>3650</th>\n",
       "      <td>2020</td>\n",
       "      <td>10</td>\n",
       "      <td>31</td>\n",
       "      <td>2</td>\n",
       "      <td>32</td>\n",
       "      <td>94</td>\n",
       "    </tr>\n",
       "    <tr>\n",
       "      <th>3651</th>\n",
       "      <td>2020</td>\n",
       "      <td>10</td>\n",
       "      <td>31</td>\n",
       "      <td>3</td>\n",
       "      <td>32</td>\n",
       "      <td>53</td>\n",
       "    </tr>\n",
       "    <tr>\n",
       "      <th>3652</th>\n",
       "      <td>2020</td>\n",
       "      <td>10</td>\n",
       "      <td>31</td>\n",
       "      <td>4</td>\n",
       "      <td>32</td>\n",
       "      <td>37</td>\n",
       "    </tr>\n",
       "    <tr>\n",
       "      <th>3653</th>\n",
       "      <td>2020</td>\n",
       "      <td>10</td>\n",
       "      <td>31</td>\n",
       "      <td>5</td>\n",
       "      <td>32</td>\n",
       "      <td>71</td>\n",
       "    </tr>\n",
       "    <tr>\n",
       "      <th>3654</th>\n",
       "      <td>2020</td>\n",
       "      <td>10</td>\n",
       "      <td>31</td>\n",
       "      <td>6</td>\n",
       "      <td>32</td>\n",
       "      <td>102</td>\n",
       "    </tr>\n",
       "    <tr>\n",
       "      <th>3655</th>\n",
       "      <td>2020</td>\n",
       "      <td>10</td>\n",
       "      <td>31</td>\n",
       "      <td>7</td>\n",
       "      <td>32</td>\n",
       "      <td>144</td>\n",
       "    </tr>\n",
       "    <tr>\n",
       "      <th>3656</th>\n",
       "      <td>2020</td>\n",
       "      <td>10</td>\n",
       "      <td>31</td>\n",
       "      <td>8</td>\n",
       "      <td>32</td>\n",
       "      <td>159</td>\n",
       "    </tr>\n",
       "    <tr>\n",
       "      <th>3657</th>\n",
       "      <td>2020</td>\n",
       "      <td>10</td>\n",
       "      <td>31</td>\n",
       "      <td>9</td>\n",
       "      <td>32</td>\n",
       "      <td>232</td>\n",
       "    </tr>\n",
       "    <tr>\n",
       "      <th>3658</th>\n",
       "      <td>2020</td>\n",
       "      <td>10</td>\n",
       "      <td>31</td>\n",
       "      <td>10</td>\n",
       "      <td>32</td>\n",
       "      <td>366</td>\n",
       "    </tr>\n",
       "    <tr>\n",
       "      <th>3659</th>\n",
       "      <td>2020</td>\n",
       "      <td>10</td>\n",
       "      <td>31</td>\n",
       "      <td>11</td>\n",
       "      <td>32</td>\n",
       "      <td>443</td>\n",
       "    </tr>\n",
       "    <tr>\n",
       "      <th>3660</th>\n",
       "      <td>2020</td>\n",
       "      <td>10</td>\n",
       "      <td>31</td>\n",
       "      <td>12</td>\n",
       "      <td>32</td>\n",
       "      <td>487</td>\n",
       "    </tr>\n",
       "    <tr>\n",
       "      <th>3661</th>\n",
       "      <td>2020</td>\n",
       "      <td>10</td>\n",
       "      <td>31</td>\n",
       "      <td>13</td>\n",
       "      <td>32</td>\n",
       "      <td>426</td>\n",
       "    </tr>\n",
       "    <tr>\n",
       "      <th>3662</th>\n",
       "      <td>2020</td>\n",
       "      <td>10</td>\n",
       "      <td>31</td>\n",
       "      <td>14</td>\n",
       "      <td>32</td>\n",
       "      <td>512</td>\n",
       "    </tr>\n",
       "    <tr>\n",
       "      <th>3663</th>\n",
       "      <td>2020</td>\n",
       "      <td>10</td>\n",
       "      <td>31</td>\n",
       "      <td>15</td>\n",
       "      <td>32</td>\n",
       "      <td>587</td>\n",
       "    </tr>\n",
       "    <tr>\n",
       "      <th>3664</th>\n",
       "      <td>2020</td>\n",
       "      <td>10</td>\n",
       "      <td>31</td>\n",
       "      <td>16</td>\n",
       "      <td>32</td>\n",
       "      <td>563</td>\n",
       "    </tr>\n",
       "    <tr>\n",
       "      <th>3665</th>\n",
       "      <td>2020</td>\n",
       "      <td>10</td>\n",
       "      <td>31</td>\n",
       "      <td>17</td>\n",
       "      <td>32</td>\n",
       "      <td>655</td>\n",
       "    </tr>\n",
       "    <tr>\n",
       "      <th>3666</th>\n",
       "      <td>2020</td>\n",
       "      <td>10</td>\n",
       "      <td>31</td>\n",
       "      <td>18</td>\n",
       "      <td>32</td>\n",
       "      <td>638</td>\n",
       "    </tr>\n",
       "    <tr>\n",
       "      <th>3667</th>\n",
       "      <td>2020</td>\n",
       "      <td>10</td>\n",
       "      <td>31</td>\n",
       "      <td>19</td>\n",
       "      <td>32</td>\n",
       "      <td>650</td>\n",
       "    </tr>\n",
       "    <tr>\n",
       "      <th>3668</th>\n",
       "      <td>2020</td>\n",
       "      <td>10</td>\n",
       "      <td>31</td>\n",
       "      <td>20</td>\n",
       "      <td>32</td>\n",
       "      <td>538</td>\n",
       "    </tr>\n",
       "    <tr>\n",
       "      <th>3669</th>\n",
       "      <td>2020</td>\n",
       "      <td>10</td>\n",
       "      <td>31</td>\n",
       "      <td>21</td>\n",
       "      <td>32</td>\n",
       "      <td>465</td>\n",
       "    </tr>\n",
       "    <tr>\n",
       "      <th>3670</th>\n",
       "      <td>2020</td>\n",
       "      <td>10</td>\n",
       "      <td>31</td>\n",
       "      <td>22</td>\n",
       "      <td>32</td>\n",
       "      <td>399</td>\n",
       "    </tr>\n",
       "    <tr>\n",
       "      <th>3671</th>\n",
       "      <td>2020</td>\n",
       "      <td>10</td>\n",
       "      <td>31</td>\n",
       "      <td>23</td>\n",
       "      <td>32</td>\n",
       "      <td>349</td>\n",
       "    </tr>\n",
       "  </tbody>\n",
       "</table>\n",
       "</div>"
      ],
      "text/plain": [
       "      start year  start month  start day  start hour  pickup community area  \\\n",
       "3622        2020           10         29          22                     32   \n",
       "3623        2020           10         29          23                     32   \n",
       "3624        2020           10         30           0                     32   \n",
       "3625        2020           10         30           1                     32   \n",
       "3626        2020           10         30           2                     32   \n",
       "3627        2020           10         30           3                     32   \n",
       "3628        2020           10         30           4                     32   \n",
       "3629        2020           10         30           5                     32   \n",
       "3630        2020           10         30           6                     32   \n",
       "3631        2020           10         30           7                     32   \n",
       "3632        2020           10         30           8                     32   \n",
       "3633        2020           10         30           9                     32   \n",
       "3634        2020           10         30          10                     32   \n",
       "3635        2020           10         30          11                     32   \n",
       "3636        2020           10         30          12                     32   \n",
       "3637        2020           10         30          13                     32   \n",
       "3638        2020           10         30          14                     32   \n",
       "3639        2020           10         30          15                     32   \n",
       "3640        2020           10         30          16                     32   \n",
       "3641        2020           10         30          17                     32   \n",
       "3642        2020           10         30          18                     32   \n",
       "3643        2020           10         30          19                     32   \n",
       "3644        2020           10         30          20                     32   \n",
       "3645        2020           10         30          21                     32   \n",
       "3646        2020           10         30          22                     32   \n",
       "3647        2020           10         30          23                     32   \n",
       "3648        2020           10         31           0                     32   \n",
       "3649        2020           10         31           1                     32   \n",
       "3650        2020           10         31           2                     32   \n",
       "3651        2020           10         31           3                     32   \n",
       "3652        2020           10         31           4                     32   \n",
       "3653        2020           10         31           5                     32   \n",
       "3654        2020           10         31           6                     32   \n",
       "3655        2020           10         31           7                     32   \n",
       "3656        2020           10         31           8                     32   \n",
       "3657        2020           10         31           9                     32   \n",
       "3658        2020           10         31          10                     32   \n",
       "3659        2020           10         31          11                     32   \n",
       "3660        2020           10         31          12                     32   \n",
       "3661        2020           10         31          13                     32   \n",
       "3662        2020           10         31          14                     32   \n",
       "3663        2020           10         31          15                     32   \n",
       "3664        2020           10         31          16                     32   \n",
       "3665        2020           10         31          17                     32   \n",
       "3666        2020           10         31          18                     32   \n",
       "3667        2020           10         31          19                     32   \n",
       "3668        2020           10         31          20                     32   \n",
       "3669        2020           10         31          21                     32   \n",
       "3670        2020           10         31          22                     32   \n",
       "3671        2020           10         31          23                     32   \n",
       "\n",
       "      count  \n",
       "3622    279  \n",
       "3623    185  \n",
       "3624     98  \n",
       "3625     53  \n",
       "3626     33  \n",
       "3627     21  \n",
       "3628     28  \n",
       "3629     80  \n",
       "3630    146  \n",
       "3631    202  \n",
       "3632    275  \n",
       "3633    259  \n",
       "3634    301  \n",
       "3635    366  \n",
       "3636    438  \n",
       "3637    445  \n",
       "3638    505  \n",
       "3639    522  \n",
       "3640    638  \n",
       "3641    771  \n",
       "3642    763  \n",
       "3643    655  \n",
       "3644    469  \n",
       "3645    375  \n",
       "3646    323  \n",
       "3647    238  \n",
       "3648    231  \n",
       "3649    151  \n",
       "3650     94  \n",
       "3651     53  \n",
       "3652     37  \n",
       "3653     71  \n",
       "3654    102  \n",
       "3655    144  \n",
       "3656    159  \n",
       "3657    232  \n",
       "3658    366  \n",
       "3659    443  \n",
       "3660    487  \n",
       "3661    426  \n",
       "3662    512  \n",
       "3663    587  \n",
       "3664    563  \n",
       "3665    655  \n",
       "3666    638  \n",
       "3667    650  \n",
       "3668    538  \n",
       "3669    465  \n",
       "3670    399  \n",
       "3671    349  "
      ]
     },
     "execution_count": 158,
     "metadata": {},
     "output_type": "execute_result"
    }
   ],
   "source": [
    "zb.tail(50)"
   ]
  },
  {
   "cell_type": "code",
   "execution_count": 168,
   "id": "792f178a",
   "metadata": {},
   "outputs": [
    {
     "data": {
      "text/html": [
       "<div>\n",
       "<style scoped>\n",
       "    .dataframe tbody tr th:only-of-type {\n",
       "        vertical-align: middle;\n",
       "    }\n",
       "\n",
       "    .dataframe tbody tr th {\n",
       "        vertical-align: top;\n",
       "    }\n",
       "\n",
       "    .dataframe thead th {\n",
       "        text-align: right;\n",
       "    }\n",
       "</style>\n",
       "<table border=\"1\" class=\"dataframe\">\n",
       "  <thead>\n",
       "    <tr style=\"text-align: right;\">\n",
       "      <th></th>\n",
       "      <th>start year</th>\n",
       "      <th>start month</th>\n",
       "      <th>start day</th>\n",
       "      <th>start hour</th>\n",
       "      <th>start julian</th>\n",
       "      <th>pickup community area</th>\n",
       "      <th>count</th>\n",
       "    </tr>\n",
       "  </thead>\n",
       "  <tbody>\n",
       "    <tr>\n",
       "      <th>8652</th>\n",
       "      <td>2021</td>\n",
       "      <td>12</td>\n",
       "      <td>29</td>\n",
       "      <td>22</td>\n",
       "      <td>2.459578e+06</td>\n",
       "      <td>32</td>\n",
       "      <td>244</td>\n",
       "    </tr>\n",
       "    <tr>\n",
       "      <th>8653</th>\n",
       "      <td>2021</td>\n",
       "      <td>12</td>\n",
       "      <td>29</td>\n",
       "      <td>23</td>\n",
       "      <td>2.459578e+06</td>\n",
       "      <td>32</td>\n",
       "      <td>142</td>\n",
       "    </tr>\n",
       "    <tr>\n",
       "      <th>8654</th>\n",
       "      <td>2021</td>\n",
       "      <td>12</td>\n",
       "      <td>30</td>\n",
       "      <td>0</td>\n",
       "      <td>2.459579e+06</td>\n",
       "      <td>32</td>\n",
       "      <td>73</td>\n",
       "    </tr>\n",
       "    <tr>\n",
       "      <th>8655</th>\n",
       "      <td>2021</td>\n",
       "      <td>12</td>\n",
       "      <td>30</td>\n",
       "      <td>1</td>\n",
       "      <td>2.459579e+06</td>\n",
       "      <td>32</td>\n",
       "      <td>46</td>\n",
       "    </tr>\n",
       "    <tr>\n",
       "      <th>8656</th>\n",
       "      <td>2021</td>\n",
       "      <td>12</td>\n",
       "      <td>30</td>\n",
       "      <td>2</td>\n",
       "      <td>2.459579e+06</td>\n",
       "      <td>32</td>\n",
       "      <td>25</td>\n",
       "    </tr>\n",
       "    <tr>\n",
       "      <th>8657</th>\n",
       "      <td>2021</td>\n",
       "      <td>12</td>\n",
       "      <td>30</td>\n",
       "      <td>3</td>\n",
       "      <td>2.459579e+06</td>\n",
       "      <td>32</td>\n",
       "      <td>21</td>\n",
       "    </tr>\n",
       "    <tr>\n",
       "      <th>8658</th>\n",
       "      <td>2021</td>\n",
       "      <td>12</td>\n",
       "      <td>30</td>\n",
       "      <td>4</td>\n",
       "      <td>2.459579e+06</td>\n",
       "      <td>32</td>\n",
       "      <td>29</td>\n",
       "    </tr>\n",
       "    <tr>\n",
       "      <th>8659</th>\n",
       "      <td>2021</td>\n",
       "      <td>12</td>\n",
       "      <td>30</td>\n",
       "      <td>5</td>\n",
       "      <td>2.459579e+06</td>\n",
       "      <td>32</td>\n",
       "      <td>54</td>\n",
       "    </tr>\n",
       "    <tr>\n",
       "      <th>8660</th>\n",
       "      <td>2021</td>\n",
       "      <td>12</td>\n",
       "      <td>30</td>\n",
       "      <td>6</td>\n",
       "      <td>2.459579e+06</td>\n",
       "      <td>32</td>\n",
       "      <td>73</td>\n",
       "    </tr>\n",
       "    <tr>\n",
       "      <th>8661</th>\n",
       "      <td>2021</td>\n",
       "      <td>12</td>\n",
       "      <td>30</td>\n",
       "      <td>7</td>\n",
       "      <td>2.459579e+06</td>\n",
       "      <td>32</td>\n",
       "      <td>85</td>\n",
       "    </tr>\n",
       "    <tr>\n",
       "      <th>8662</th>\n",
       "      <td>2021</td>\n",
       "      <td>12</td>\n",
       "      <td>30</td>\n",
       "      <td>8</td>\n",
       "      <td>2.459579e+06</td>\n",
       "      <td>32</td>\n",
       "      <td>123</td>\n",
       "    </tr>\n",
       "    <tr>\n",
       "      <th>8663</th>\n",
       "      <td>2021</td>\n",
       "      <td>12</td>\n",
       "      <td>30</td>\n",
       "      <td>9</td>\n",
       "      <td>2.459579e+06</td>\n",
       "      <td>32</td>\n",
       "      <td>200</td>\n",
       "    </tr>\n",
       "    <tr>\n",
       "      <th>8664</th>\n",
       "      <td>2021</td>\n",
       "      <td>12</td>\n",
       "      <td>30</td>\n",
       "      <td>10</td>\n",
       "      <td>2.459579e+06</td>\n",
       "      <td>32</td>\n",
       "      <td>233</td>\n",
       "    </tr>\n",
       "    <tr>\n",
       "      <th>8665</th>\n",
       "      <td>2021</td>\n",
       "      <td>12</td>\n",
       "      <td>30</td>\n",
       "      <td>11</td>\n",
       "      <td>2.459579e+06</td>\n",
       "      <td>32</td>\n",
       "      <td>312</td>\n",
       "    </tr>\n",
       "    <tr>\n",
       "      <th>8666</th>\n",
       "      <td>2021</td>\n",
       "      <td>12</td>\n",
       "      <td>30</td>\n",
       "      <td>12</td>\n",
       "      <td>2.459579e+06</td>\n",
       "      <td>32</td>\n",
       "      <td>344</td>\n",
       "    </tr>\n",
       "    <tr>\n",
       "      <th>8667</th>\n",
       "      <td>2021</td>\n",
       "      <td>12</td>\n",
       "      <td>30</td>\n",
       "      <td>13</td>\n",
       "      <td>2.459579e+06</td>\n",
       "      <td>32</td>\n",
       "      <td>383</td>\n",
       "    </tr>\n",
       "    <tr>\n",
       "      <th>8668</th>\n",
       "      <td>2021</td>\n",
       "      <td>12</td>\n",
       "      <td>30</td>\n",
       "      <td>14</td>\n",
       "      <td>2.459579e+06</td>\n",
       "      <td>32</td>\n",
       "      <td>386</td>\n",
       "    </tr>\n",
       "    <tr>\n",
       "      <th>8669</th>\n",
       "      <td>2021</td>\n",
       "      <td>12</td>\n",
       "      <td>30</td>\n",
       "      <td>15</td>\n",
       "      <td>2.459579e+06</td>\n",
       "      <td>32</td>\n",
       "      <td>408</td>\n",
       "    </tr>\n",
       "    <tr>\n",
       "      <th>8670</th>\n",
       "      <td>2021</td>\n",
       "      <td>12</td>\n",
       "      <td>30</td>\n",
       "      <td>16</td>\n",
       "      <td>2.459579e+06</td>\n",
       "      <td>32</td>\n",
       "      <td>384</td>\n",
       "    </tr>\n",
       "    <tr>\n",
       "      <th>8671</th>\n",
       "      <td>2021</td>\n",
       "      <td>12</td>\n",
       "      <td>30</td>\n",
       "      <td>17</td>\n",
       "      <td>2.459579e+06</td>\n",
       "      <td>32</td>\n",
       "      <td>541</td>\n",
       "    </tr>\n",
       "    <tr>\n",
       "      <th>8672</th>\n",
       "      <td>2021</td>\n",
       "      <td>12</td>\n",
       "      <td>30</td>\n",
       "      <td>18</td>\n",
       "      <td>2.459579e+06</td>\n",
       "      <td>32</td>\n",
       "      <td>508</td>\n",
       "    </tr>\n",
       "    <tr>\n",
       "      <th>8673</th>\n",
       "      <td>2021</td>\n",
       "      <td>12</td>\n",
       "      <td>30</td>\n",
       "      <td>19</td>\n",
       "      <td>2.459579e+06</td>\n",
       "      <td>32</td>\n",
       "      <td>455</td>\n",
       "    </tr>\n",
       "    <tr>\n",
       "      <th>8674</th>\n",
       "      <td>2021</td>\n",
       "      <td>12</td>\n",
       "      <td>30</td>\n",
       "      <td>20</td>\n",
       "      <td>2.459579e+06</td>\n",
       "      <td>32</td>\n",
       "      <td>340</td>\n",
       "    </tr>\n",
       "    <tr>\n",
       "      <th>8675</th>\n",
       "      <td>2021</td>\n",
       "      <td>12</td>\n",
       "      <td>30</td>\n",
       "      <td>21</td>\n",
       "      <td>2.459579e+06</td>\n",
       "      <td>32</td>\n",
       "      <td>302</td>\n",
       "    </tr>\n",
       "    <tr>\n",
       "      <th>8676</th>\n",
       "      <td>2021</td>\n",
       "      <td>12</td>\n",
       "      <td>30</td>\n",
       "      <td>22</td>\n",
       "      <td>2.459579e+06</td>\n",
       "      <td>32</td>\n",
       "      <td>288</td>\n",
       "    </tr>\n",
       "    <tr>\n",
       "      <th>8677</th>\n",
       "      <td>2021</td>\n",
       "      <td>12</td>\n",
       "      <td>30</td>\n",
       "      <td>23</td>\n",
       "      <td>2.459579e+06</td>\n",
       "      <td>32</td>\n",
       "      <td>236</td>\n",
       "    </tr>\n",
       "    <tr>\n",
       "      <th>8678</th>\n",
       "      <td>2021</td>\n",
       "      <td>12</td>\n",
       "      <td>31</td>\n",
       "      <td>0</td>\n",
       "      <td>2.459580e+06</td>\n",
       "      <td>32</td>\n",
       "      <td>224</td>\n",
       "    </tr>\n",
       "    <tr>\n",
       "      <th>8679</th>\n",
       "      <td>2021</td>\n",
       "      <td>12</td>\n",
       "      <td>31</td>\n",
       "      <td>1</td>\n",
       "      <td>2.459580e+06</td>\n",
       "      <td>32</td>\n",
       "      <td>116</td>\n",
       "    </tr>\n",
       "    <tr>\n",
       "      <th>8680</th>\n",
       "      <td>2021</td>\n",
       "      <td>12</td>\n",
       "      <td>31</td>\n",
       "      <td>2</td>\n",
       "      <td>2.459580e+06</td>\n",
       "      <td>32</td>\n",
       "      <td>108</td>\n",
       "    </tr>\n",
       "    <tr>\n",
       "      <th>8681</th>\n",
       "      <td>2021</td>\n",
       "      <td>12</td>\n",
       "      <td>31</td>\n",
       "      <td>3</td>\n",
       "      <td>2.459580e+06</td>\n",
       "      <td>32</td>\n",
       "      <td>54</td>\n",
       "    </tr>\n",
       "    <tr>\n",
       "      <th>8682</th>\n",
       "      <td>2021</td>\n",
       "      <td>12</td>\n",
       "      <td>31</td>\n",
       "      <td>4</td>\n",
       "      <td>2.459580e+06</td>\n",
       "      <td>32</td>\n",
       "      <td>44</td>\n",
       "    </tr>\n",
       "    <tr>\n",
       "      <th>8683</th>\n",
       "      <td>2021</td>\n",
       "      <td>12</td>\n",
       "      <td>31</td>\n",
       "      <td>5</td>\n",
       "      <td>2.459580e+06</td>\n",
       "      <td>32</td>\n",
       "      <td>70</td>\n",
       "    </tr>\n",
       "    <tr>\n",
       "      <th>8684</th>\n",
       "      <td>2021</td>\n",
       "      <td>12</td>\n",
       "      <td>31</td>\n",
       "      <td>6</td>\n",
       "      <td>2.459580e+06</td>\n",
       "      <td>32</td>\n",
       "      <td>125</td>\n",
       "    </tr>\n",
       "    <tr>\n",
       "      <th>8685</th>\n",
       "      <td>2021</td>\n",
       "      <td>12</td>\n",
       "      <td>31</td>\n",
       "      <td>7</td>\n",
       "      <td>2.459580e+06</td>\n",
       "      <td>32</td>\n",
       "      <td>137</td>\n",
       "    </tr>\n",
       "    <tr>\n",
       "      <th>8686</th>\n",
       "      <td>2021</td>\n",
       "      <td>12</td>\n",
       "      <td>31</td>\n",
       "      <td>8</td>\n",
       "      <td>2.459580e+06</td>\n",
       "      <td>32</td>\n",
       "      <td>195</td>\n",
       "    </tr>\n",
       "    <tr>\n",
       "      <th>8687</th>\n",
       "      <td>2021</td>\n",
       "      <td>12</td>\n",
       "      <td>31</td>\n",
       "      <td>9</td>\n",
       "      <td>2.459580e+06</td>\n",
       "      <td>32</td>\n",
       "      <td>277</td>\n",
       "    </tr>\n",
       "    <tr>\n",
       "      <th>8688</th>\n",
       "      <td>2021</td>\n",
       "      <td>12</td>\n",
       "      <td>31</td>\n",
       "      <td>10</td>\n",
       "      <td>2.459580e+06</td>\n",
       "      <td>32</td>\n",
       "      <td>393</td>\n",
       "    </tr>\n",
       "    <tr>\n",
       "      <th>8689</th>\n",
       "      <td>2021</td>\n",
       "      <td>12</td>\n",
       "      <td>31</td>\n",
       "      <td>11</td>\n",
       "      <td>2.459580e+06</td>\n",
       "      <td>32</td>\n",
       "      <td>477</td>\n",
       "    </tr>\n",
       "    <tr>\n",
       "      <th>8690</th>\n",
       "      <td>2021</td>\n",
       "      <td>12</td>\n",
       "      <td>31</td>\n",
       "      <td>12</td>\n",
       "      <td>2.459580e+06</td>\n",
       "      <td>32</td>\n",
       "      <td>558</td>\n",
       "    </tr>\n",
       "    <tr>\n",
       "      <th>8691</th>\n",
       "      <td>2021</td>\n",
       "      <td>12</td>\n",
       "      <td>31</td>\n",
       "      <td>13</td>\n",
       "      <td>2.459580e+06</td>\n",
       "      <td>32</td>\n",
       "      <td>640</td>\n",
       "    </tr>\n",
       "    <tr>\n",
       "      <th>8692</th>\n",
       "      <td>2021</td>\n",
       "      <td>12</td>\n",
       "      <td>31</td>\n",
       "      <td>14</td>\n",
       "      <td>2.459580e+06</td>\n",
       "      <td>32</td>\n",
       "      <td>659</td>\n",
       "    </tr>\n",
       "    <tr>\n",
       "      <th>8693</th>\n",
       "      <td>2021</td>\n",
       "      <td>12</td>\n",
       "      <td>31</td>\n",
       "      <td>15</td>\n",
       "      <td>2.459580e+06</td>\n",
       "      <td>32</td>\n",
       "      <td>802</td>\n",
       "    </tr>\n",
       "    <tr>\n",
       "      <th>8694</th>\n",
       "      <td>2021</td>\n",
       "      <td>12</td>\n",
       "      <td>31</td>\n",
       "      <td>16</td>\n",
       "      <td>2.459580e+06</td>\n",
       "      <td>32</td>\n",
       "      <td>742</td>\n",
       "    </tr>\n",
       "    <tr>\n",
       "      <th>8695</th>\n",
       "      <td>2021</td>\n",
       "      <td>12</td>\n",
       "      <td>31</td>\n",
       "      <td>17</td>\n",
       "      <td>2.459580e+06</td>\n",
       "      <td>32</td>\n",
       "      <td>918</td>\n",
       "    </tr>\n",
       "    <tr>\n",
       "      <th>8696</th>\n",
       "      <td>2021</td>\n",
       "      <td>12</td>\n",
       "      <td>31</td>\n",
       "      <td>18</td>\n",
       "      <td>2.459580e+06</td>\n",
       "      <td>32</td>\n",
       "      <td>1060</td>\n",
       "    </tr>\n",
       "    <tr>\n",
       "      <th>8697</th>\n",
       "      <td>2021</td>\n",
       "      <td>12</td>\n",
       "      <td>31</td>\n",
       "      <td>19</td>\n",
       "      <td>2.459580e+06</td>\n",
       "      <td>32</td>\n",
       "      <td>1194</td>\n",
       "    </tr>\n",
       "    <tr>\n",
       "      <th>8698</th>\n",
       "      <td>2021</td>\n",
       "      <td>12</td>\n",
       "      <td>31</td>\n",
       "      <td>20</td>\n",
       "      <td>2.459580e+06</td>\n",
       "      <td>32</td>\n",
       "      <td>1270</td>\n",
       "    </tr>\n",
       "    <tr>\n",
       "      <th>8699</th>\n",
       "      <td>2021</td>\n",
       "      <td>12</td>\n",
       "      <td>31</td>\n",
       "      <td>21</td>\n",
       "      <td>2.459580e+06</td>\n",
       "      <td>32</td>\n",
       "      <td>1326</td>\n",
       "    </tr>\n",
       "    <tr>\n",
       "      <th>8700</th>\n",
       "      <td>2021</td>\n",
       "      <td>12</td>\n",
       "      <td>31</td>\n",
       "      <td>22</td>\n",
       "      <td>2.459580e+06</td>\n",
       "      <td>32</td>\n",
       "      <td>1147</td>\n",
       "    </tr>\n",
       "    <tr>\n",
       "      <th>8701</th>\n",
       "      <td>2021</td>\n",
       "      <td>12</td>\n",
       "      <td>31</td>\n",
       "      <td>23</td>\n",
       "      <td>2.459580e+06</td>\n",
       "      <td>32</td>\n",
       "      <td>767</td>\n",
       "    </tr>\n",
       "  </tbody>\n",
       "</table>\n",
       "</div>"
      ],
      "text/plain": [
       "      start year  start month  start day  start hour  start julian  \\\n",
       "8652        2021           12         29          22  2.459578e+06   \n",
       "8653        2021           12         29          23  2.459578e+06   \n",
       "8654        2021           12         30           0  2.459579e+06   \n",
       "8655        2021           12         30           1  2.459579e+06   \n",
       "8656        2021           12         30           2  2.459579e+06   \n",
       "8657        2021           12         30           3  2.459579e+06   \n",
       "8658        2021           12         30           4  2.459579e+06   \n",
       "8659        2021           12         30           5  2.459579e+06   \n",
       "8660        2021           12         30           6  2.459579e+06   \n",
       "8661        2021           12         30           7  2.459579e+06   \n",
       "8662        2021           12         30           8  2.459579e+06   \n",
       "8663        2021           12         30           9  2.459579e+06   \n",
       "8664        2021           12         30          10  2.459579e+06   \n",
       "8665        2021           12         30          11  2.459579e+06   \n",
       "8666        2021           12         30          12  2.459579e+06   \n",
       "8667        2021           12         30          13  2.459579e+06   \n",
       "8668        2021           12         30          14  2.459579e+06   \n",
       "8669        2021           12         30          15  2.459579e+06   \n",
       "8670        2021           12         30          16  2.459579e+06   \n",
       "8671        2021           12         30          17  2.459579e+06   \n",
       "8672        2021           12         30          18  2.459579e+06   \n",
       "8673        2021           12         30          19  2.459579e+06   \n",
       "8674        2021           12         30          20  2.459579e+06   \n",
       "8675        2021           12         30          21  2.459579e+06   \n",
       "8676        2021           12         30          22  2.459579e+06   \n",
       "8677        2021           12         30          23  2.459579e+06   \n",
       "8678        2021           12         31           0  2.459580e+06   \n",
       "8679        2021           12         31           1  2.459580e+06   \n",
       "8680        2021           12         31           2  2.459580e+06   \n",
       "8681        2021           12         31           3  2.459580e+06   \n",
       "8682        2021           12         31           4  2.459580e+06   \n",
       "8683        2021           12         31           5  2.459580e+06   \n",
       "8684        2021           12         31           6  2.459580e+06   \n",
       "8685        2021           12         31           7  2.459580e+06   \n",
       "8686        2021           12         31           8  2.459580e+06   \n",
       "8687        2021           12         31           9  2.459580e+06   \n",
       "8688        2021           12         31          10  2.459580e+06   \n",
       "8689        2021           12         31          11  2.459580e+06   \n",
       "8690        2021           12         31          12  2.459580e+06   \n",
       "8691        2021           12         31          13  2.459580e+06   \n",
       "8692        2021           12         31          14  2.459580e+06   \n",
       "8693        2021           12         31          15  2.459580e+06   \n",
       "8694        2021           12         31          16  2.459580e+06   \n",
       "8695        2021           12         31          17  2.459580e+06   \n",
       "8696        2021           12         31          18  2.459580e+06   \n",
       "8697        2021           12         31          19  2.459580e+06   \n",
       "8698        2021           12         31          20  2.459580e+06   \n",
       "8699        2021           12         31          21  2.459580e+06   \n",
       "8700        2021           12         31          22  2.459580e+06   \n",
       "8701        2021           12         31          23  2.459580e+06   \n",
       "\n",
       "      pickup community area  count  \n",
       "8652                     32    244  \n",
       "8653                     32    142  \n",
       "8654                     32     73  \n",
       "8655                     32     46  \n",
       "8656                     32     25  \n",
       "8657                     32     21  \n",
       "8658                     32     29  \n",
       "8659                     32     54  \n",
       "8660                     32     73  \n",
       "8661                     32     85  \n",
       "8662                     32    123  \n",
       "8663                     32    200  \n",
       "8664                     32    233  \n",
       "8665                     32    312  \n",
       "8666                     32    344  \n",
       "8667                     32    383  \n",
       "8668                     32    386  \n",
       "8669                     32    408  \n",
       "8670                     32    384  \n",
       "8671                     32    541  \n",
       "8672                     32    508  \n",
       "8673                     32    455  \n",
       "8674                     32    340  \n",
       "8675                     32    302  \n",
       "8676                     32    288  \n",
       "8677                     32    236  \n",
       "8678                     32    224  \n",
       "8679                     32    116  \n",
       "8680                     32    108  \n",
       "8681                     32     54  \n",
       "8682                     32     44  \n",
       "8683                     32     70  \n",
       "8684                     32    125  \n",
       "8685                     32    137  \n",
       "8686                     32    195  \n",
       "8687                     32    277  \n",
       "8688                     32    393  \n",
       "8689                     32    477  \n",
       "8690                     32    558  \n",
       "8691                     32    640  \n",
       "8692                     32    659  \n",
       "8693                     32    802  \n",
       "8694                     32    742  \n",
       "8695                     32    918  \n",
       "8696                     32   1060  \n",
       "8697                     32   1194  \n",
       "8698                     32   1270  \n",
       "8699                     32   1326  \n",
       "8700                     32   1147  \n",
       "8701                     32    767  "
      ]
     },
     "execution_count": 168,
     "metadata": {},
     "output_type": "execute_result"
    }
   ],
   "source": [
    "zb2.tail(50)"
   ]
  },
  {
   "cell_type": "code",
   "execution_count": 178,
   "id": "b03ca1f1",
   "metadata": {},
   "outputs": [],
   "source": [
    "fft=np.fft.fft(zb2['count']-np.mean(zb2['count']))"
   ]
  },
  {
   "cell_type": "code",
   "execution_count": 179,
   "id": "082fcba1",
   "metadata": {
    "scrolled": true
   },
   "outputs": [
    {
     "data": {
      "text/plain": [
       "8702"
      ]
     },
     "execution_count": 179,
     "metadata": {},
     "output_type": "execute_result"
    }
   ],
   "source": [
    "fft.size"
   ]
  },
  {
   "cell_type": "code",
   "execution_count": 180,
   "id": "b46760dd",
   "metadata": {},
   "outputs": [
    {
     "data": {
      "text/plain": [
       "362.5833333333333"
      ]
     },
     "execution_count": 180,
     "metadata": {},
     "output_type": "execute_result"
    }
   ],
   "source": [
    "8702/24"
   ]
  },
  {
   "cell_type": "code",
   "execution_count": 181,
   "id": "d486fdbb",
   "metadata": {},
   "outputs": [
    {
     "data": {
      "text/plain": [
       "51.79761904761905"
      ]
     },
     "execution_count": 181,
     "metadata": {},
     "output_type": "execute_result"
    }
   ],
   "source": [
    "8702/168"
   ]
  },
  {
   "cell_type": "code",
   "execution_count": 177,
   "id": "72ec6645",
   "metadata": {},
   "outputs": [
    {
     "data": {
      "text/plain": [
       "[<matplotlib.lines.Line2D at 0x7f8b60fc0d60>]"
      ]
     },
     "execution_count": 177,
     "metadata": {},
     "output_type": "execute_result"
    },
    {
     "data": {
      "image/png": "[encoded data removed]",
      "text/plain": [
       "<Figure size 432x288 with 1 Axes>"
      ]
     },
     "metadata": {
      "needs_background": "light"
     },
     "output_type": "display_data"
    }
   ],
   "source": [
    "plt.plot(zb2['start julian'],zb2['count'])"
   ]
  },
  {
   "cell_type": "code",
   "execution_count": 182,
   "id": "f2b94d02",
   "metadata": {},
   "outputs": [
    {
     "data": {
      "text/plain": [
       "(0.0, 1000.0)"
      ]
     },
     "execution_count": 182,
     "metadata": {},
     "output_type": "execute_result"
    },
    {
     "data": {
      "image/png": "[encoded data removed]",
      "text/plain": [
       "<Figure size 432x288 with 1 Axes>"
      ]
     },
     "metadata": {
      "needs_background": "light"
     },
     "output_type": "display_data"
    }
   ],
   "source": [
    "plt.plot(np.arange(0,8702),np.abs(fft))\n",
    "plt.xlim([0,1000])"
   ]
  },
  {
   "cell_type": "code",
   "execution_count": null,
   "id": "4ccbdbfe",
   "metadata": {},
   "outputs": [],
   "source": []
  },
  {
   "cell_type": "code",
   "execution_count": 148,
   "id": "7a275c7e",
   "metadata": {},
   "outputs": [],
   "source": [
    "ts=pd.Timestamp(2008,12,11,16,4)"
   ]
  },
  {
   "cell_type": "code",
   "execution_count": 130,
   "id": "cc25c134",
   "metadata": {},
   "outputs": [
    {
     "data": {
      "text/plain": [
       "2454812.1694444446"
      ]
     },
     "execution_count": 130,
     "metadata": {},
     "output_type": "execute_result"
    }
   ],
   "source": [
    "ts.to_julian_date()"
   ]
  },
  {
   "cell_type": "code",
   "execution_count": null,
   "id": "45436160",
   "metadata": {},
   "outputs": [],
   "source": [
    "from pyspark.sql.functions import udf, struct\n",
    "from pyspark.sql.types import IntegerType\n",
    "\n",
    "df = sqlContext.createDataFrame([(None, None), (1, None), (None, 2)], (\"a\", \"b\"))\n",
    "\n",
    "count_empty_columns = udf(lambda row: len([x for x in row if x == None]), IntegerType())\n",
    "\n",
    "new_df = df.withColumn(\"null_count\", count_empty_columns(struct([df[x] for x in df.columns])))\n",
    "\n",
    "new_df.show()"
   ]
  },
  {
   "cell_type": "code",
   "execution_count": null,
   "id": "3e2e3c4a",
   "metadata": {},
   "outputs": [],
   "source": [
    "yrs=[2019,2020]"
   ]
  },
  {
   "cell_type": "code",
   "execution_count": null,
   "id": "3f545591",
   "metadata": {},
   "outputs": [],
   "source": [
    "yrmo=[(yr,mo)]"
   ]
  },
  {
   "cell_type": "code",
   "execution_count": 132,
   "id": "50a1b738",
   "metadata": {},
   "outputs": [],
   "source": [
    "chicago=gp.read_file('/media/benjamin/Data/Chicago_Transit/Shapes/geo_export_43aec312-120e-4284-b1ca-b89761679d63.shp')"
   ]
  },
  {
   "cell_type": "code",
   "execution_count": 133,
   "id": "010f406b",
   "metadata": {
    "scrolled": true
   },
   "outputs": [
    {
     "data": {
      "text/plain": [
       "<AxesSubplot:>"
      ]
     },
     "execution_count": 133,
     "metadata": {},
     "output_type": "execute_result"
    },
    {
     "data": {
      "image/png": "[encoded data removed]",
      "text/plain": [
       "<Figure size 432x288 with 1 Axes>"
      ]
     },
     "metadata": {
      "needs_background": "light"
     },
     "output_type": "display_data"
    }
   ],
   "source": [
    "chicago.plot()"
   ]
  },
  {
   "cell_type": "code",
   "execution_count": 8,
   "id": "5f486670",
   "metadata": {},
   "outputs": [],
   "source": [
    "from pyspark.sql import SparkSession\n",
    "sc=SparkSession.builder.master('local[*]').getOrCreate()"
   ]
  },
  {
   "cell_type": "code",
   "execution_count": 60,
   "id": "fccbb5fe",
   "metadata": {},
   "outputs": [],
   "source": [
    "df=read_in_range(2021,8,2021,9)"
   ]
  },
  {
   "cell_type": "code",
   "execution_count": 61,
   "id": "7ef7d9d6",
   "metadata": {},
   "outputs": [],
   "source": [
    "cnt=area_out(df,32,to_pandas=False)"
   ]
  },
  {
   "cell_type": "code",
   "execution_count": 62,
   "id": "cc821ef4",
   "metadata": {
    "scrolled": false
   },
   "outputs": [],
   "source": [
    "to_fit=cnt.withColumn('shortsine',F.sin(2*3.14159*F.col('start julian'))).withColumn('shortcos',F.cos(2*3.14159*F.col('start julian'))).withColumn('longsine',F.sin(2*3.14159*F.col('start julian')/7.)).withColumn('longcos',F.cos(2*3.14159*F.col('start julian')/7.)).withColumn('twhrsine',F.sin(2*3.14159*F.col('start julian')*2.)).withColumn('twhrcos',F.cos(2*3.14159*F.col('start julian')*2.))"
   ]
  },
  {
   "cell_type": "code",
   "execution_count": 63,
   "id": "1e8e26d1",
   "metadata": {
    "scrolled": true
   },
   "outputs": [
    {
     "name": "stdout",
     "output_type": "stream",
     "text": [
      "root\n",
      " |-- year: long (nullable = true)\n",
      " |-- month: long (nullable = true)\n",
      " |-- day: long (nullable = true)\n",
      " |-- hour: long (nullable = true)\n",
      " |-- start julian: double (nullable = true)\n",
      " |-- pickup community area: long (nullable = true)\n",
      " |-- count: long (nullable = false)\n",
      " |-- shortsine: double (nullable = true)\n",
      " |-- shortcos: double (nullable = true)\n",
      " |-- longsine: double (nullable = true)\n",
      " |-- longcos: double (nullable = true)\n",
      " |-- twhrsine: double (nullable = true)\n",
      " |-- twhrcos: double (nullable = true)\n",
      "\n"
     ]
    }
   ],
   "source": [
    "to_fit.printSchema()"
   ]
  },
  {
   "cell_type": "code",
   "execution_count": 66,
   "id": "d52e939e",
   "metadata": {},
   "outputs": [],
   "source": [
    "va=VectorAssembler(inputCols = ['twhrsine','twhrcos','shortsine','shortcos','longsine','longcos'],outputCol = 'features')"
   ]
  },
  {
   "cell_type": "code",
   "execution_count": 67,
   "id": "f9867513",
   "metadata": {},
   "outputs": [],
   "source": [
    "vto_fit = va.transform(to_fit)"
   ]
  },
  {
   "cell_type": "code",
   "execution_count": 48,
   "id": "f45c79e8",
   "metadata": {},
   "outputs": [
    {
     "name": "stderr",
     "output_type": "stream",
     "text": [
      "[Stage 69:====================================================>   (16 + 1) / 17]\r"
     ]
    },
    {
     "name": "stdout",
     "output_type": "stream",
     "text": [
      "+----+-----+---+----+------------------+---------------------+-----+--------------------+--------------------+--------------------+-------------------+-----+--------------------+\n",
      "|year|month|day|hour|      start julian|pickup community area|count|           shortsine|            shortcos|            longsine|            longcos|const|            features|\n",
      "+----+-----+---+----+------------------+---------------------+-----+--------------------+--------------------+--------------------+-------------------+-----+--------------------+\n",
      "|2021|    8|  1|   0|2459427.5000000005|                   32|  627| 0.46731631981678357| -0.8840901861421705| 0.06940883489941412|-0.9975882986672938|  1.0|[0.46731631981678...|\n",
      "|2021|    8|  1|   1|2459427.5416666674|                   32|  347| 0.22257373721968188| -0.9749158586770779|0.032059310757679614|-0.9994859681825166|  1.0|[0.22257373721968...|\n",
      "|2021|    8|  1|   2| 2459427.583333334|                   32|  200|-0.03733684889848443| -0.9993027367691594|-0.00533505022336...|-0.9999857685182896|  1.0|[-0.0373368488984...|\n",
      "|2021|    8|  1|   3|2459427.6250000005|                   32|  127| -0.2947029947533894| -0.9555888995187124|-0.04272195013225...| -0.999087000704592|  1.0|[-0.2947029947533...|\n",
      "|2021|    8|  1|   4|2459427.6666666674|                   32|   85| -0.5319856539513115| -0.8467533666835907|-0.08004909963142141|-0.9967909217324357|  1.0|[-0.5319856539513...|\n",
      "|2021|    8|  1|   5| 2459427.708333334|                   32|   91| -0.7330144292843104| -0.6802130890103459|-0.11726429295251399|-0.9931007429250805|  1.0|[-0.7330144292843...|\n",
      "|2021|    8|  1|   6|2459427.7500000005|                   32|  122| -0.8840895667917499|-0.46731749153009033| -0.1543154822968031|-0.9880216252306956|  1.0|[-0.8840895667917...|\n",
      "|2021|    8|  1|   7|2459427.7916666674|                   32|  111| -0.9749155632773702| -0.2225750311233677| -0.1911508478487857|-0.9815606722799617|  1.0|[-0.9749155632773...|\n",
      "|2021|    8|  1|   8| 2459427.833333334|                   32|  160| -0.9993027863215748|0.037335522628416294|-0.22771887210570624|-0.9737269202845863|  1.0|[-0.9993027863215...|\n",
      "|2021|    8|  1|   9|2459427.8750000005|                   32|  253| -0.9555892906463415| 0.29470172649990006|   -0.26396841101601|-0.9645313255595604|  1.0|[-0.9555892906463...|\n",
      "|2021|    8|  1|  10|2459427.9166666674|                   32|  248| -0.8467540727317789|   0.531984530143636| -0.2998487673096645|-0.9539867487249887|  1.0|[-0.8467540727317...|\n",
      "|2021|    8|  1|  11| 2459427.958333334|                   32|  321| -0.6802140618631547|  0.7330135265079549| -0.3353097586950413|-0.9421079374062578|  1.0|[-0.6802140618631...|\n",
      "|2021|    8|  1|  12|2459428.0000000005|                   32|  328|-0.46731866488932017|  0.8840889465693276| -0.3703017898526959|-0.9289115051671445|  1.0|[-0.4673186648893...|\n",
      "|2021|    8|  1|  13|2459428.0416666674|                   32|  297| -0.2225763250266615|  0.9749152678759452| -0.4047759213453629|-0.9144159083803237|  1.0|[-0.2225763250266...|\n",
      "|2021|    8|  1|  14| 2459428.083333334|                   32|  347|  0.0373341963582824|  0.9993028358722301|-0.43868393764560626|-0.8986414206187837|  1.0|[0.03733419635828...|\n",
      "|2021|    8|  1|  15|2459428.1250000005|                   32|  315| 0.29470045824589164|  0.9555896817722874|-0.47197841625067677| -0.881610103500126|  1.0|[0.29470045824589...|\n",
      "|2021|    8|  1|  16|2459428.1666666674|                   32|  335|  0.5319834063350235|  0.8467547787784756| -0.5046127914742463|-0.8633457770097499|  1.0|[0.53198340633502...|\n",
      "|2021|    8|  1|  17| 2459428.208333334|                   32|  337|  0.7330126237303083|  0.6802150347147654|  -0.536541421268508| -0.843873985416762|  1.0|[0.73301262373030...|\n",
      "|2021|    8|  1|  18|2459428.2500000005|                   32|  354|   0.884088326345348|  0.4673198382477269| -0.5677196502494496| -0.823221962000919|  1.0|[0.88408832634534...|\n",
      "|2021|    8|  1|  19|2459428.2916666674|                   32|  332|   0.974914972472803|  0.2225776189295632| -0.5981038736943269|-0.8014185899215469|  1.0|[0.97491497247280...|\n",
      "+----+-----+---+----+------------------+---------------------+-----+--------------------+--------------------+--------------------+-------------------+-----+--------------------+\n",
      "only showing top 20 rows\n",
      "\n"
     ]
    },
    {
     "name": "stderr",
     "output_type": "stream",
     "text": [
      "\r",
      "                                                                                \r"
     ]
    }
   ],
   "source": [
    "vto_fit.show()"
   ]
  },
  {
   "cell_type": "code",
   "execution_count": 68,
   "id": "f9441c61",
   "metadata": {},
   "outputs": [],
   "source": [
    "r_fit = vto_fit.selectExpr(['features','count as label'])"
   ]
  },
  {
   "cell_type": "code",
   "execution_count": 70,
   "id": "d82677ac",
   "metadata": {
    "scrolled": true
   },
   "outputs": [
    {
     "name": "stderr",
     "output_type": "stream",
     "text": [
      "[Stage 122:===================================================>   (16 + 1) / 17]\r"
     ]
    },
    {
     "name": "stdout",
     "output_type": "stream",
     "text": [
      "+--------------------+-----+\n",
      "|            features|label|\n",
      "+--------------------+-----+\n",
      "|[-0.8262995443481...|  627|\n",
      "|[-0.4339813322809...|  347|\n",
      "|[0.07462163057318...|  200|\n",
      "|[0.56322982088252...|  127|\n",
      "|[0.90092128702128...|   85|\n",
      "|[0.99721201846527...|   91|\n",
      "|[0.82630103728208...|  122|\n",
      "|[0.43398372367823...|  111|\n",
      "|[-0.0746189835826...|  160|\n",
      "|[-0.5632276275565...|  253|\n",
      "|[-0.9009201350588...|  248|\n",
      "|[-0.9972122165332...|  321|\n",
      "|[-0.8263025323083...|  328|\n",
      "|[-0.4339861150724...|  297|\n",
      "|[0.07461633659168...|  347|\n",
      "|[0.56322543422667...|  315|\n",
      "|[0.90091898309006...|  335|\n",
      "|[0.99721241459414...|  337|\n",
      "|[0.82630402732882...|  354|\n",
      "|[0.43398850646355...|  332|\n",
      "+--------------------+-----+\n",
      "only showing top 20 rows\n",
      "\n"
     ]
    },
    {
     "name": "stderr",
     "output_type": "stream",
     "text": [
      "\r",
      "                                                                                \r"
     ]
    }
   ],
   "source": [
    "r_fit.show()"
   ]
  },
  {
   "cell_type": "code",
   "execution_count": 71,
   "id": "65f52ad1",
   "metadata": {},
   "outputs": [],
   "source": [
    "lr=LinearRegression(regParam=0.1)"
   ]
  },
  {
   "cell_type": "code",
   "execution_count": 72,
   "id": "5e9d2c17",
   "metadata": {},
   "outputs": [
    {
     "name": "stderr",
     "output_type": "stream",
     "text": [
      "                                                                                \r"
     ]
    }
   ],
   "source": [
    "lr_model=lr.fit(r_fit)"
   ]
  },
  {
   "cell_type": "code",
   "execution_count": 73,
   "id": "cb4e29c4",
   "metadata": {},
   "outputs": [
    {
     "data": {
      "text/plain": [
       "DenseVector([-14.6417, -49.8923, 111.6063, 167.8782, 57.5956, -56.2221])"
      ]
     },
     "execution_count": 73,
     "metadata": {},
     "output_type": "execute_result"
    }
   ],
   "source": [
    "lr_model.coefficients"
   ]
  },
  {
   "cell_type": "code",
   "execution_count": 74,
   "id": "5a930eb3",
   "metadata": {},
   "outputs": [
    {
     "data": {
      "text/plain": [
       "278.3758368944713"
      ]
     },
     "execution_count": 74,
     "metadata": {},
     "output_type": "execute_result"
    }
   ],
   "source": [
    "lr_model.intercept"
   ]
  },
  {
   "cell_type": "code",
   "execution_count": 36,
   "id": "cdba3aca",
   "metadata": {},
   "outputs": [
    {
     "name": "stderr",
     "output_type": "stream",
     "text": [
      "                                                                                \r"
     ]
    }
   ],
   "source": [
    "pds=to_fit.select(['start julian','count']).toPandas()"
   ]
  },
  {
   "cell_type": "code",
   "execution_count": 75,
   "id": "0ae06581",
   "metadata": {},
   "outputs": [
    {
     "data": {
      "text/plain": [
       "[<matplotlib.lines.Line2D at 0x7f85a50629d0>]"
      ]
     },
     "execution_count": 75,
     "metadata": {},
     "output_type": "execute_result"
    },
    {
     "data": {
      "image/png": "[encoded data removed]",
      "text/plain": [
       "<Figure size 432x288 with 1 Axes>"
      ]
     },
     "metadata": {
      "needs_background": "light"
     },
     "output_type": "display_data"
    }
   ],
   "source": [
    "plt.plot(pds['start julian'],pds['count'])\n",
    "plt.plot(pds['start julian'],-14.64*np.sin(2.*3.14159*pds['start julian']*2.)-49.89*np.cos(2.*3.14159*pds['start julian']*2.)+111.9*np.sin(2.*3.14159*pds['start julian'])+167.87*np.cos(2.*3.14159*pds['start julian'])+57.57*np.sin(2.*3.14159*pds['start julian']/7.)-56.*np.cos(2.*3.14159*pds['start julian']/7)+278.47)\n",
    "#plt.xlim([2459500,2459540])"
   ]
  },
  {
   "cell_type": "code",
   "execution_count": 76,
   "id": "9b97b228",
   "metadata": {},
   "outputs": [
    {
     "data": {
      "text/plain": [
       "[<matplotlib.lines.Line2D at 0x7f85a5bb6cd0>]"
      ]
     },
     "execution_count": 76,
     "metadata": {},
     "output_type": "execute_result"
    },
    {
     "data": {
      "image/png": "[encoded data removed]",
      "text/plain": [
       "<Figure size 432x288 with 1 Axes>"
      ]
     },
     "metadata": {
      "needs_background": "light"
     },
     "output_type": "display_data"
    }
   ],
   "source": [
    "plt.plot(pds['start julian'],pds['count']-(-14.64*np.sin(2.*3.14159*pds['start julian']*2.)-49.89*np.cos(2.*3.14159*pds['start julian']*2.)+111.9*np.sin(2.*3.14159*pds['start julian'])+167.87*np.cos(2.*3.14159*pds['start julian'])+57.57*np.sin(2.*3.14159*pds['start julian']/7.)-56.*np.cos(2.*3.14159*pds['start julian']/7)+278.47))\n"
   ]
  },
  {
   "cell_type": "code",
   "execution_count": 61,
   "id": "66a6be9c",
   "metadata": {},
   "outputs": [
    {
     "data": {
      "text/plain": [
       "[<matplotlib.lines.Line2D at 0x7f8b640c29a0>]"
      ]
     },
     "execution_count": 61,
     "metadata": {},
     "output_type": "execute_result"
    },
    {
     "data": {
      "image/png": "[encoded data removed]",
      "text/plain": [
       "<Figure size 432x288 with 1 Axes>"
      ]
     },
     "metadata": {
      "needs_background": "light"
     },
     "output_type": "display_data"
    }
   ],
   "source": [
    "plt.plot(pd.to_datetime(cnt[['year','month','day','hour']]),cnt['count'])"
   ]
  },
  {
   "cell_type": "code",
   "execution_count": 58,
   "id": "1114cd16",
   "metadata": {},
   "outputs": [],
   "source": [
    "fft=np.fft.fft(zb['count']-np.mean(zb['count']))"
   ]
  },
  {
   "cell_type": "code",
   "execution_count": 59,
   "id": "a884ac37",
   "metadata": {},
   "outputs": [
    {
     "data": {
      "text/plain": [
       "(0.0, 3000.0)"
      ]
     },
     "execution_count": 59,
     "metadata": {},
     "output_type": "execute_result"
    },
    {
     "data": {
      "image/png": "[encoded data removed]",
      "text/plain": [
       "<Figure size 432x288 with 1 Axes>"
      ]
     },
     "metadata": {
      "needs_background": "light"
     },
     "output_type": "display_data"
    }
   ],
   "source": [
    "plt.plot(np.abs(fft))\n",
    "plt.xlim([0,3000])"
   ]
  },
  {
   "cell_type": "code",
   "execution_count": 54,
   "id": "e1448615",
   "metadata": {},
   "outputs": [
    {
     "data": {
      "text/plain": [
       "185.82738095238096"
      ]
     },
     "execution_count": 54,
     "metadata": {},
     "output_type": "execute_result"
    }
   ],
   "source": [
    "fft.size/(24*7)"
   ]
  },
  {
   "cell_type": "code",
   "execution_count": 64,
   "id": "c42ec8c3",
   "metadata": {},
   "outputs": [
    {
     "ename": "AttributeError",
     "evalue": "'DataFrame' object has no attribute 'show'",
     "output_type": "error",
     "traceback": [
      "\u001b[0;31m---------------------------------------------------------------------------\u001b[0m",
      "\u001b[0;31mAttributeError\u001b[0m                            Traceback (most recent call last)",
      "Input \u001b[0;32mIn [64]\u001b[0m, in \u001b[0;36m<cell line: 1>\u001b[0;34m()\u001b[0m\n\u001b[0;32m----> 1\u001b[0m \u001b[43mzb\u001b[49m\u001b[38;5;241;43m.\u001b[39;49m\u001b[43mshow\u001b[49m()\n",
      "File \u001b[0;32m~/anaconda3/lib/python3.9/site-packages/pandas/core/generic.py:5575\u001b[0m, in \u001b[0;36mNDFrame.__getattr__\u001b[0;34m(self, name)\u001b[0m\n\u001b[1;32m   5568\u001b[0m \u001b[38;5;28;01mif\u001b[39;00m (\n\u001b[1;32m   5569\u001b[0m     name \u001b[38;5;129;01mnot\u001b[39;00m \u001b[38;5;129;01min\u001b[39;00m \u001b[38;5;28mself\u001b[39m\u001b[38;5;241m.\u001b[39m_internal_names_set\n\u001b[1;32m   5570\u001b[0m     \u001b[38;5;129;01mand\u001b[39;00m name \u001b[38;5;129;01mnot\u001b[39;00m \u001b[38;5;129;01min\u001b[39;00m \u001b[38;5;28mself\u001b[39m\u001b[38;5;241m.\u001b[39m_metadata\n\u001b[1;32m   5571\u001b[0m     \u001b[38;5;129;01mand\u001b[39;00m name \u001b[38;5;129;01mnot\u001b[39;00m \u001b[38;5;129;01min\u001b[39;00m \u001b[38;5;28mself\u001b[39m\u001b[38;5;241m.\u001b[39m_accessors\n\u001b[1;32m   5572\u001b[0m     \u001b[38;5;129;01mand\u001b[39;00m \u001b[38;5;28mself\u001b[39m\u001b[38;5;241m.\u001b[39m_info_axis\u001b[38;5;241m.\u001b[39m_can_hold_identifiers_and_holds_name(name)\n\u001b[1;32m   5573\u001b[0m ):\n\u001b[1;32m   5574\u001b[0m     \u001b[38;5;28;01mreturn\u001b[39;00m \u001b[38;5;28mself\u001b[39m[name]\n\u001b[0;32m-> 5575\u001b[0m \u001b[38;5;28;01mreturn\u001b[39;00m \u001b[38;5;28;43mobject\u001b[39;49m\u001b[38;5;241;43m.\u001b[39;49m\u001b[38;5;21;43m__getattribute__\u001b[39;49m\u001b[43m(\u001b[49m\u001b[38;5;28;43mself\u001b[39;49m\u001b[43m,\u001b[49m\u001b[43m \u001b[49m\u001b[43mname\u001b[49m\u001b[43m)\u001b[49m\n",
      "\u001b[0;31mAttributeError\u001b[0m: 'DataFrame' object has no attribute 'show'"
     ]
    }
   ],
   "source": [
    "zb.show()"
   ]
  },
  {
   "cell_type": "code",
   "execution_count": 84,
   "id": "ac90f64b",
   "metadata": {},
   "outputs": [
    {
     "name": "stderr",
     "output_type": "stream",
     "text": [
      "[Stage 47:=====================================================>(112 + 1) / 113]\r"
     ]
    },
    {
     "name": "stdout",
     "output_type": "stream",
     "text": [
      "+----------+-----------+---------+----------+---------------------+-----+\n",
      "|start year|start month|start day|start hour|pickup community area|count|\n",
      "+----------+-----------+---------+----------+---------------------+-----+\n",
      "|      2021|          1|        1|         3|                   32|  219|\n",
      "|      2021|          1|        5|        19|                   32|  254|\n",
      "|      2021|          1|       19|        11|                   32|  203|\n",
      "|      2021|          1|       16|        23|                   32|  244|\n",
      "|      2021|          1|       27|        11|                   32|  227|\n",
      "|      2021|          2|        5|         9|                   32|  296|\n",
      "|      2021|          2|       17|        17|                   32|  377|\n",
      "|      2021|          2|        2|         9|                   32|  254|\n",
      "|      2021|          2|       15|        19|                   32|  135|\n",
      "|      2021|          2|       15|         2|                   32|   29|\n",
      "|      2021|          3|       18|        13|                   32|  343|\n",
      "|      2021|          3|       18|         8|                   32|  315|\n",
      "|      2021|          3|       15|         6|                   32|  142|\n",
      "|      2021|          3|       30|         4|                   32|   19|\n",
      "|      2021|          3|       17|         3|                   32|   12|\n",
      "|      2021|          4|        8|        15|                   32|  517|\n",
      "|      2021|          4|       29|        15|                   32|  389|\n",
      "|      2021|          5|       30|        16|                   32|  522|\n",
      "|      2021|          5|       24|        14|                   32|  362|\n",
      "|      2021|          6|       22|         8|                   32|  258|\n",
      "+----------+-----------+---------+----------+---------------------+-----+\n",
      "only showing top 20 rows\n",
      "\n"
     ]
    },
    {
     "name": "stderr",
     "output_type": "stream",
     "text": [
      "\r",
      "                                                                                \r"
     ]
    }
   ],
   "source": [
    "ab32.show()"
   ]
  },
  {
   "cell_type": "code",
   "execution_count": null,
   "id": "ea0a9008",
   "metadata": {},
   "outputs": [],
   "source": [
    "ab32['julday']=pd.to_datetime(zz[[]])"
   ]
  },
  {
   "cell_type": "code",
   "execution_count": 52,
   "id": "b0a27fdb",
   "metadata": {},
   "outputs": [],
   "source": [
    "import TNPTools"
   ]
  },
  {
   "cell_type": "code",
   "execution_count": null,
   "id": "93231f89",
   "metadata": {},
   "outputs": [],
   "source": [
    "e"
   ]
  }
 ],
 "metadata": {
  "kernelspec": {
   "display_name": "Python 3 (ipykernel)",
   "language": "python",
   "name": "python3"
  },
  "language_info": {
   "codemirror_mode": {
    "name": "ipython",
    "version": 3
   },
   "file_extension": ".py",
   "mimetype": "text/x-python",
   "name": "python",
   "nbconvert_exporter": "python",
   "pygments_lexer": "ipython3",
   "version": "3.9.7"
  }
 },
 "nbformat": 4,
 "nbformat_minor": 5
}
