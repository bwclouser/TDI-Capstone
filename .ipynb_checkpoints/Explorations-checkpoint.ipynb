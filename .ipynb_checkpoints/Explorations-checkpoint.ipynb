{
 "cells": [
  {
   "cell_type": "markdown",
   "id": "6b6969df",
   "metadata": {},
   "source": [
    "Exploration of Data"
   ]
  },
  {
   "cell_type": "code",
   "execution_count": 14,
   "id": "e9c57da3",
   "metadata": {},
   "outputs": [],
   "source": [
    "import numpy as np\n",
    "import pandas as pd\n",
    "import matplotlib.pyplot as plt\n",
    "import geopandas as gp\n",
    "import pyspark.sql.functions as F\n",
    "from pyspark import SparkContext\n",
    "from pyspark.sql import SQLContext\n",
    "from datetime import datetime"
   ]
  },
  {
   "cell_type": "code",
   "execution_count": 2,
   "id": "e55fd243",
   "metadata": {},
   "outputs": [],
   "source": [
    "dt=np.dtype([('id',np.ulonglong),('start year',np.short),('start month',np.byte),('start day',np.byte),('start hour',np.byte),('start minute',np.byte),('start julian',np.double),('end year',np.short),('end month',np.byte),('end day',np.byte),('end hour',np.byte),('end minute',np.byte),('trip seconds',np.uint32),('trip miles',np.single),('pickup census tract',np.ulonglong),('dropoff census tract',np.ulonglong),('pickup community area',np.byte),('dropoff community area',np.byte),('fare',np.single),('tip',np.single),('addcharge',np.single),('trip total',np.single),('st auth',np.byte),('pool',np.byte),('pickup lat',np.double),('pickup lon',np.double),('dropoff lat',np.double),('dropoff lon',np.double)])"
   ]
  },
  {
   "cell_type": "code",
   "execution_count": 3,
   "id": "8a0f89c9",
   "metadata": {
    "scrolled": true
   },
   "outputs": [
    {
     "name": "stderr",
     "output_type": "stream",
     "text": [
      "22/07/25 20:38:43 WARN Utils: Your hostname, benjamin-precision resolves to a loopback address: 127.0.0.2, but we couldn't find any external IP address!\n",
      "22/07/25 20:38:43 WARN Utils: Set SPARK_LOCAL_IP if you need to bind to another address\n",
      "WARNING: An illegal reflective access operation has occurred\n",
      "WARNING: Illegal reflective access by org.apache.spark.unsafe.Platform (file:/home/benjamin/anaconda3/lib/python3.9/site-packages/pyspark/jars/spark-unsafe_2.12-3.1.2.jar) to constructor java.nio.DirectByteBuffer(long,int)\n",
      "WARNING: Please consider reporting this to the maintainers of org.apache.spark.unsafe.Platform\n",
      "WARNING: Use --illegal-access=warn to enable warnings of further illegal reflective access operations\n",
      "WARNING: All illegal access operations will be denied in a future release\n",
      "22/07/25 20:38:43 WARN NativeCodeLoader: Unable to load native-hadoop library for your platform... using builtin-java classes where applicable\n",
      "Using Spark's default log4j profile: org/apache/spark/log4j-defaults.properties\n",
      "Setting default log level to \"WARN\".\n",
      "To adjust logging level use sc.setLogLevel(newLevel). For SparkR, use setLogLevel(newLevel).\n",
      "22/07/25 20:38:43 WARN MacAddressUtil: Failed to find a usable hardware address from the network interfaces; using random bytes: 48:22:a9:b1:7b:45:3a:da\n",
      "22/07/25 20:38:44 WARN Utils: Service 'SparkUI' could not bind on port 4040. Attempting port 4041.\n"
     ]
    }
   ],
   "source": [
    "sc = SparkContext('local[*]','temp')\n",
    "sqlContext=SQLContext(sc)"
   ]
  },
  {
   "cell_type": "code",
   "execution_count": 65,
   "id": "10c4364f",
   "metadata": {},
   "outputs": [],
   "source": [
    "dt=np.dtype([('id',np.ulonglong),('start year',np.short),('start month',np.byte),('start day',np.byte),('start hour',np.byte),('start minute',np.byte),('start julian',np.double),('end year',np.short),('end month',np.byte),('end day',np.byte),('end hour',np.byte),('end minute',np.byte),('trip seconds',np.uint32),('trip miles',np.single),('pickup census tract',np.ulonglong),('dropoff census tract',np.ulonglong),('pickup community area',np.byte),('dropoff community area',np.byte),('fare',np.single),('tip',np.single),('addcharge',np.single),('trip total',np.single),('st auth',np.byte),('pool',np.byte),('pickup lat',np.double),('pickup lon',np.double),('dropoff lat',np.double),('dropoff lon',np.double)])\n",
    "\n",
    "def read_array(x):\n",
    "    array=np.frombuffer(bytes(x),dtype=dt)\n",
    "    return array.tolist()[0]\n",
    "\n",
    "def read_in_range(start_year,start_month,end_year,end_month,path='/media/benjamin/Data/Chicago_Transit/TNP/'):\n",
    "    dt=np.dtype([('id',np.ulonglong),('start year',np.short),('start month',np.byte),('start day',np.byte),('start hour',np.byte),('start minute',np.byte),('start julian',np.double),('end year',np.short),('end month',np.byte),('end day',np.byte),('end hour',np.byte),('end minute',np.byte),('trip seconds',np.uint32),('trip miles',np.single),('pickup census tract',np.ulonglong),('dropoff census tract',np.ulonglong),('pickup community area',np.byte),('dropoff community area',np.byte),('fare',np.single),('tip',np.single),('addcharge',np.single),('trip total',np.single),('st auth',np.byte),('pool',np.byte),('pickup lat',np.double),('pickup lon',np.double),('dropoff lat',np.double),('dropoff lon',np.double)])\n",
    "    \n",
    "    #Calculate month and year ranges\n",
    "    nmonths=(end_year-start_year-1)*12.+(12.-start_month+1)+end_month\n",
    "    yrs=(start_year+np.floor((start_month+np.arange(0,nmonths)-1)/12.)).astype(int)\n",
    "    mos=(np.floor((np.mod(start_month+np.arange(nmonths)-1,12)+1 ))).astype(int)\n",
    "    \n",
    "    #construct list of file names\n",
    "    fnames=''\n",
    "    if nmonths > 1:\n",
    "        for i in np.arange(0,nmonths,dtype=np.int16):\n",
    "            fnames+=(path+\"{0:04d}{1:02d}\".format(yrs[i],mos[i])+'TNP.dat')\n",
    "            if i != nmonths-1:\n",
    "                fnames+=','\n",
    "    else:\n",
    "        fnames=path+\"{0:04d}{1:02d}\".format(yrs,mos)+'TNP.dat'\n",
    "        \n",
    "    #load binary records into rdd given record length\n",
    "    rdd=sc.binaryRecords(fnames,104)\n",
    "    out=rdd.map(read_array)\n",
    "    df=out.toDF(['id','start year','start month','start day','start hour','start minute','start julian','end year','end month','end day','end hour','end minute','trip seconds','trip miles','pickup census tract','dropoff census tract','pickup community area','dropoff community area','fare','tip','addcharge','trip total','st auth','pool','pickup lat','pickup lon','dropaff lat','dropoff lon'])\n",
    "    out.unpersist()\n",
    "    return df\n",
    "\n",
    "def area_out(df,ca,to_pandas=True):\n",
    "    with_out=df.groupby(['start year','start month','start day','start hour','start julian','pickup community area']).count()\n",
    "    out_area=with_out.where(with_out['pickup community area']==ca)\n",
    "    out_area_sort=out_area.sort(['start year','start month','start day','start hour'])\n",
    "    if to_pandas:\n",
    "        outdf=out_area_sort.toPandas()\n",
    "        outdf=outdf.rename(columns={'start year':'year','start month':'month','start day':'day','start hour':'hour'})\n",
    "    else:\n",
    "        outdf=out_area_sort.withColumnRenamed('start year','year').withColumnRenamed('start month','month').withColumnRenamed('start day','day').withColumnRenamed('start hour','hour')\n",
    "    return outdf\n",
    "\n",
    "def one_time_count(df,yr,mo,dy,hr):\n",
    "        one_time=df.where((df['start year']==yr) & (df['start month']==mo) & (df['start day']==dy) & (df['start hour']==hr))\n",
    "        cnt=one_time.groupby(['pickup community area']).count().toPandas()\n",
    "        return cnt\n",
    "    \n",
    "def plot_chicago(chicago,counts):\n",
    "    #expects geopandas dataframe with chicago boundary information\n",
    "    #and counts as a pandas dataframe\n",
    "    chicago['pickup community area']=chicago['area_num_1'].astype(np.int64)\n",
    "    with_count=chicago.merge(counts,on='pickup community area',how='left')\n",
    "    fix, ax = plt.subplots(1,1) \n",
    "    with_count.plot(column='count',ax=ax,legend=True,legend_kwds={'label':'Pickup Count'})\n",
    "    return with_count"
   ]
  },
  {
   "cell_type": "markdown",
   "id": "07508f38",
   "metadata": {},
   "source": [
    "Reads all the data into a spark dataframe"
   ]
  },
  {
   "cell_type": "code",
   "execution_count": 9,
   "id": "9f4acb65",
   "metadata": {},
   "outputs": [
    {
     "name": "stderr",
     "output_type": "stream",
     "text": [
      "\r",
      "                                                                                \r"
     ]
    }
   ],
   "source": [
    "df=read_in_range(2018,11,2022,5)"
   ]
  },
  {
   "cell_type": "markdown",
   "id": "d10fe85a",
   "metadata": {},
   "source": [
    "Makes a pandas dataframe containing hourly counts of all rides originating in the Chicago Loop (community area 32)."
   ]
  },
  {
   "cell_type": "code",
   "execution_count": 10,
   "id": "15f9a4a8",
   "metadata": {},
   "outputs": [
    {
     "name": "stderr",
     "output_type": "stream",
     "text": [
      "22/07/25 20:51:08 WARN package: Truncated the string representation of a plan since it was too large. This behavior can be adjusted by setting 'spark.sql.debug.maxToStringFields'.\n",
      "                                                                                \r"
     ]
    }
   ],
   "source": [
    "out32=area_out(df,32)"
   ]
  },
  {
   "cell_type": "code",
   "execution_count": 18,
   "id": "89cd8ea2",
   "metadata": {
    "scrolled": false
   },
   "outputs": [
    {
     "data": {
      "text/plain": [
       "[<matplotlib.lines.Line2D at 0x7f10e7695f10>]"
      ]
     },
     "execution_count": 18,
     "metadata": {},
     "output_type": "execute_result"
    },
    {
     "data": {
      "image/png": "[encoded data removed]",
      "text/plain": [
       "<Figure size 432x288 with 1 Axes>"
      ]
     },
     "metadata": {
      "needs_background": "light"
     },
     "output_type": "display_data"
    }
   ],
   "source": [
    "plt.plot(pd.to_datetime(out32[['year','month','day','hour']]),out32['count'])"
   ]
  },
  {
   "cell_type": "markdown",
   "id": "2d826a8d",
   "metadata": {},
   "source": [
    "Time series plot showing hourly counts of rides originating in the loop over the whole reporting range. Several features stand out. The first is the step-function-like change from pre- to post-pandemic behavior. This suggests that traning a model on the whole data set for future predictions is not a good idea -- behavior in September 2019 probably has little bearing on behavior in September 2022.\n",
    "\n",
    "Second are the very low counts in the several months prior to the data being collected. This is due to the lag in reporting from TNP companies to the City of Chicago. The lag is variable, but after about 3 months almost all rides have been reported. I exlude April, May, and June of 2022 from this analysis."
   ]
  },
  {
   "cell_type": "markdown",
   "id": "43fa71ff",
   "metadata": {},
   "source": [
    "Based on this time series, I tentatively restrict the analysis region to June 2020 to March 2022, and redo the above calculations."
   ]
  },
  {
   "cell_type": "code",
   "execution_count": 19,
   "id": "b0bdaf86",
   "metadata": {},
   "outputs": [],
   "source": [
    "df=read_in_range(2020,6,2022,3)"
   ]
  },
  {
   "cell_type": "code",
   "execution_count": 20,
   "id": "7b5fb192",
   "metadata": {},
   "outputs": [
    {
     "name": "stderr",
     "output_type": "stream",
     "text": [
      "                                                                                \r"
     ]
    }
   ],
   "source": [
    "out32=area_out(df,32)"
   ]
  },
  {
   "cell_type": "code",
   "execution_count": 21,
   "id": "9ffd262f",
   "metadata": {},
   "outputs": [
    {
     "data": {
      "text/plain": [
       "[<matplotlib.lines.Line2D at 0x7f10e63f8670>]"
      ]
     },
     "execution_count": 21,
     "metadata": {},
     "output_type": "execute_result"
    },
    {
     "data": {
      "image/png": "[encoded data removed]",
      "text/plain": [
       "<Figure size 432x288 with 1 Axes>"
      ]
     },
     "metadata": {
      "needs_background": "light"
     },
     "output_type": "display_data"
    }
   ],
   "source": [
    "plt.plot(pd.to_datetime(out32[['year','month','day','hour']]),out32['count'])"
   ]
  },
  {
   "cell_type": "markdown",
   "id": "c59d0b52",
   "metadata": {},
   "source": [
    "With this restricted range, the data appear somewhat more regular, although there is cleally still a lot of variability. Zooming in on June 2021 offers some insight into the nature of the ridership patters here."
   ]
  },
  {
   "cell_type": "code",
   "execution_count": 22,
   "id": "a4eb9fd2",
   "metadata": {},
   "outputs": [
    {
     "data": {
      "text/plain": [
       "(18779.0, 18808.0)"
      ]
     },
     "execution_count": 22,
     "metadata": {},
     "output_type": "execute_result"
    },
    {
     "data": {
      "image/png": "[encoded data removed]",
      "text/plain": [
       "<Figure size 432x288 with 1 Axes>"
      ]
     },
     "metadata": {
      "needs_background": "light"
     },
     "output_type": "display_data"
    }
   ],
   "source": [
    "plt.plot(pd.to_datetime(out32[['year','month','day','hour']]),out32['count'])\n",
    "plt.xlim([datetime(2021,6,1),datetime(2021,6,30)])"
   ]
  },
  {
   "cell_type": "markdown",
   "id": "af32c2d3",
   "metadata": {},
   "source": [
    "Here we clearly see the periodic nature of the ridership patters. A daily pattern stands out most clearly, as well as a well as a weekly pattern. Zooming in further shows evidence of more structure in the daily pattern, such as a dip in rides in the middle of the day."
   ]
  },
  {
   "cell_type": "markdown",
   "id": "f2f8070d",
   "metadata": {},
   "source": [
    "I next look at the periodic nature of this data by computing the Fourier Transform of the data."
   ]
  },
  {
   "cell_type": "code",
   "execution_count": 23,
   "id": "0e694a71",
   "metadata": {},
   "outputs": [],
   "source": [
    "fft=np.fft.fft(out32['count']-np.mean(out32['count']))"
   ]
  },
  {
   "cell_type": "code",
   "execution_count": 39,
   "id": "3318e3ff",
   "metadata": {
    "scrolled": true
   },
   "outputs": [
    {
     "data": {
      "text/plain": [
       "(0.0, 1000.0)"
      ]
     },
     "execution_count": 39,
     "metadata": {},
     "output_type": "execute_result"
    },
    {
     "data": {
      "image/png": "[encoded data removed]",
      "text/plain": [
       "<Figure size 432x288 with 1 Axes>"
      ]
     },
     "metadata": {
      "needs_background": "light"
     },
     "output_type": "display_data"
    }
   ],
   "source": [
    "plt.plot(np.abs(fft))\n",
    "plt.xlim([0,1000])"
   ]
  },
  {
   "cell_type": "code",
   "execution_count": 40,
   "id": "d4dcda5a",
   "metadata": {},
   "outputs": [
    {
     "data": {
      "text/plain": [
       "664.0"
      ]
     },
     "execution_count": 40,
     "metadata": {},
     "output_type": "execute_result"
    }
   ],
   "source": [
    "15936/24"
   ]
  },
  {
   "cell_type": "markdown",
   "id": "f0c666ab",
   "metadata": {},
   "source": [
    "The periodicity is clearly reflected in the fourier transform, which spans 664 days. "
   ]
  },
  {
   "cell_type": "code",
   "execution_count": 28,
   "id": "2aecfa0a",
   "metadata": {
    "scrolled": true
   },
   "outputs": [
    {
     "data": {
      "text/plain": [
       "15936"
      ]
     },
     "execution_count": 28,
     "metadata": {},
     "output_type": "execute_result"
    }
   ],
   "source": [
    "fft.size/24"
   ]
  },
  {
   "cell_type": "code",
   "execution_count": 44,
   "id": "a167c85d",
   "metadata": {},
   "outputs": [
    {
     "data": {
      "text/plain": [
       "(0.0, 5.0)"
      ]
     },
     "execution_count": 44,
     "metadata": {},
     "output_type": "execute_result"
    },
    {
     "data": {
      "image/png": "[encoded data removed]",
      "text/plain": [
       "<Figure size 432x288 with 1 Axes>"
      ]
     },
     "metadata": {
      "needs_background": "light"
     },
     "output_type": "display_data"
    }
   ],
   "source": [
    "plt.plot(np.arange(0,15936)/664.,np.abs(fft))\n",
    "plt.xlim([0,5])"
   ]
  },
  {
   "cell_type": "markdown",
   "id": "392aaba9",
   "metadata": {},
   "source": [
    "Here the fft has been plotted with units of day^-1 on the x-axis. Clearly the daily cycle is the strongest, followed by the weekly cycle, and the bi-daily cycle. There is a significant amount of power in side-modes and harmonics, which likely reflects some amount of real signal and distortion of the sinusoid, especially due to the positive definite nature of the count variable.\n",
    "\n",
    "The amount of power in these three nodes suggests that a Fourier model would be a good choice for a base model."
   ]
  },
  {
   "cell_type": "markdown",
   "id": "9a89919d",
   "metadata": {},
   "source": [
    "Next I turn to displaying the data in a Chloropleth map of Chicago in order to perform some basic sanity checks."
   ]
  },
  {
   "cell_type": "code",
   "execution_count": 54,
   "id": "f522ab80",
   "metadata": {},
   "outputs": [],
   "source": [
    "chicago=gp.read_file('/media/benjamin/Data/Chicago_Transit/Shapes/geo_export_43aec312-120e-4284-b1ca-b89761679d63.shp')"
   ]
  },
  {
   "cell_type": "code",
   "execution_count": 71,
   "id": "d916e33b",
   "metadata": {},
   "outputs": [
    {
     "name": "stderr",
     "output_type": "stream",
     "text": [
      "                                                                                \r"
     ]
    }
   ],
   "source": [
    "mid_june=one_time_count(df,2021,1,2,0)"
   ]
  },
  {
   "cell_type": "code",
   "execution_count": 72,
   "id": "675ca4be",
   "metadata": {},
   "outputs": [
    {
     "data": {
      "image/png": "[encoded data removed]",
      "text/plain": [
       "<Figure size 432x288 with 2 Axes>"
      ]
     },
     "metadata": {
      "needs_background": "light"
     },
     "output_type": "display_data"
    },
    {
     "name": "stderr",
     "output_type": "stream",
     "text": [
      "22/07/26 05:59:23 WARN HeartbeatReceiver: Removing executor driver with no recent heartbeats: 3863144 ms exceeds timeout 120000 ms\n",
      "22/07/26 05:59:23 WARN SparkContext: Killing executors is not supported by current scheduler.\n"
     ]
    }
   ],
   "source": [
    "jplot=plot_chicago(chicago,mid_june)"
   ]
  },
  {
   "cell_type": "code",
   "execution_count": 57,
   "id": "933cb289",
   "metadata": {},
   "outputs": [
    {
     "name": "stderr",
     "output_type": "stream",
     "text": [
      "/tmp/ipykernel_9711/1566654052.py:1: DeprecationWarning: `np.int` is a deprecated alias for the builtin `int`. To silence this warning, use `int` by itself. Doing this will not modify any behavior and is safe. When replacing `np.int`, you may wish to use e.g. `np.int64` or `np.int32` to specify the precision. If you wish to review your current use, check the release note link for additional information.\n",
      "Deprecated in NumPy 1.20; for more details and guidance: https://numpy.org/devdocs/release/1.20.0-notes.html#deprecations\n",
      "  chicago['pickup community area']=chicago['area_num_1'].astype(np.int)\n"
     ]
    }
   ],
   "source": [
    "chicago['pickup community area']=chicago['area_num_1'].astype(np.int)"
   ]
  },
  {
   "cell_type": "code",
   "execution_count": 51,
   "id": "564136a0",
   "metadata": {},
   "outputs": [],
   "source": [
    "chicago=chicago.rename(columns={'area_num_1':'pickup community area'})"
   ]
  },
  {
   "cell_type": "code",
   "execution_count": 58,
   "id": "810ab43c",
   "metadata": {},
   "outputs": [
    {
     "data": {
      "text/html": [
       "<div>\n",
       "<style scoped>\n",
       "    .dataframe tbody tr th:only-of-type {\n",
       "        vertical-align: middle;\n",
       "    }\n",
       "\n",
       "    .dataframe tbody tr th {\n",
       "        vertical-align: top;\n",
       "    }\n",
       "\n",
       "    .dataframe thead th {\n",
       "        text-align: right;\n",
       "    }\n",
       "</style>\n",
       "<table border=\"1\" class=\"dataframe\">\n",
       "  <thead>\n",
       "    <tr style=\"text-align: right;\">\n",
       "      <th></th>\n",
       "      <th>area</th>\n",
       "      <th>area_num_1</th>\n",
       "      <th>area_numbe</th>\n",
       "      <th>comarea</th>\n",
       "      <th>comarea_id</th>\n",
       "      <th>community</th>\n",
       "      <th>perimeter</th>\n",
       "      <th>shape_area</th>\n",
       "      <th>shape_len</th>\n",
       "      <th>geometry</th>\n",
       "      <th>pickup community area</th>\n",
       "    </tr>\n",
       "  </thead>\n",
       "  <tbody>\n",
       "    <tr>\n",
       "      <th>0</th>\n",
       "      <td>0.0</td>\n",
       "      <td>35</td>\n",
       "      <td>35</td>\n",
       "      <td>0.0</td>\n",
       "      <td>0.0</td>\n",
       "      <td>DOUGLAS</td>\n",
       "      <td>0.0</td>\n",
       "      <td>4.600462e+07</td>\n",
       "      <td>31027.054510</td>\n",
       "      <td>POLYGON ((-87.60914 41.84469, -87.60915 41.844...</td>\n",
       "      <td>35</td>\n",
       "    </tr>\n",
       "    <tr>\n",
       "      <th>1</th>\n",
       "      <td>0.0</td>\n",
       "      <td>36</td>\n",
       "      <td>36</td>\n",
       "      <td>0.0</td>\n",
       "      <td>0.0</td>\n",
       "      <td>OAKLAND</td>\n",
       "      <td>0.0</td>\n",
       "      <td>1.691396e+07</td>\n",
       "      <td>19565.506153</td>\n",
       "      <td>POLYGON ((-87.59215 41.81693, -87.59231 41.816...</td>\n",
       "      <td>36</td>\n",
       "    </tr>\n",
       "    <tr>\n",
       "      <th>2</th>\n",
       "      <td>0.0</td>\n",
       "      <td>37</td>\n",
       "      <td>37</td>\n",
       "      <td>0.0</td>\n",
       "      <td>0.0</td>\n",
       "      <td>FULLER PARK</td>\n",
       "      <td>0.0</td>\n",
       "      <td>1.991670e+07</td>\n",
       "      <td>25339.089750</td>\n",
       "      <td>POLYGON ((-87.62880 41.80189, -87.62879 41.801...</td>\n",
       "      <td>37</td>\n",
       "    </tr>\n",
       "    <tr>\n",
       "      <th>3</th>\n",
       "      <td>0.0</td>\n",
       "      <td>38</td>\n",
       "      <td>38</td>\n",
       "      <td>0.0</td>\n",
       "      <td>0.0</td>\n",
       "      <td>GRAND BOULEVARD</td>\n",
       "      <td>0.0</td>\n",
       "      <td>4.849250e+07</td>\n",
       "      <td>28196.837157</td>\n",
       "      <td>POLYGON ((-87.60671 41.81681, -87.60670 41.816...</td>\n",
       "      <td>38</td>\n",
       "    </tr>\n",
       "    <tr>\n",
       "      <th>4</th>\n",
       "      <td>0.0</td>\n",
       "      <td>39</td>\n",
       "      <td>39</td>\n",
       "      <td>0.0</td>\n",
       "      <td>0.0</td>\n",
       "      <td>KENWOOD</td>\n",
       "      <td>0.0</td>\n",
       "      <td>2.907174e+07</td>\n",
       "      <td>23325.167906</td>\n",
       "      <td>POLYGON ((-87.59215 41.81693, -87.59215 41.816...</td>\n",
       "      <td>39</td>\n",
       "    </tr>\n",
       "  </tbody>\n",
       "</table>\n",
       "</div>"
      ],
      "text/plain": [
       "   area area_num_1 area_numbe  comarea  comarea_id        community  \\\n",
       "0   0.0         35         35      0.0         0.0          DOUGLAS   \n",
       "1   0.0         36         36      0.0         0.0          OAKLAND   \n",
       "2   0.0         37         37      0.0         0.0      FULLER PARK   \n",
       "3   0.0         38         38      0.0         0.0  GRAND BOULEVARD   \n",
       "4   0.0         39         39      0.0         0.0          KENWOOD   \n",
       "\n",
       "   perimeter    shape_area     shape_len  \\\n",
       "0        0.0  4.600462e+07  31027.054510   \n",
       "1        0.0  1.691396e+07  19565.506153   \n",
       "2        0.0  1.991670e+07  25339.089750   \n",
       "3        0.0  4.849250e+07  28196.837157   \n",
       "4        0.0  2.907174e+07  23325.167906   \n",
       "\n",
       "                                            geometry  pickup community area  \n",
       "0  POLYGON ((-87.60914 41.84469, -87.60915 41.844...                     35  \n",
       "1  POLYGON ((-87.59215 41.81693, -87.59231 41.816...                     36  \n",
       "2  POLYGON ((-87.62880 41.80189, -87.62879 41.801...                     37  \n",
       "3  POLYGON ((-87.60671 41.81681, -87.60670 41.816...                     38  \n",
       "4  POLYGON ((-87.59215 41.81693, -87.59215 41.816...                     39  "
      ]
     },
     "execution_count": 58,
     "metadata": {},
     "output_type": "execute_result"
    }
   ],
   "source": [
    "chicago.head()"
   ]
  },
  {
   "cell_type": "code",
   "execution_count": 63,
   "id": "e0b868ab",
   "metadata": {},
   "outputs": [],
   "source": [
    "with_count=chicago.merge(mid_june,on='pickup community area',how='left')"
   ]
  },
  {
   "cell_type": "code",
   "execution_count": 64,
   "id": "23ba8bf2",
   "metadata": {},
   "outputs": [
    {
     "data": {
      "text/html": [
       "<div>\n",
       "<style scoped>\n",
       "    .dataframe tbody tr th:only-of-type {\n",
       "        vertical-align: middle;\n",
       "    }\n",
       "\n",
       "    .dataframe tbody tr th {\n",
       "        vertical-align: top;\n",
       "    }\n",
       "\n",
       "    .dataframe thead th {\n",
       "        text-align: right;\n",
       "    }\n",
       "</style>\n",
       "<table border=\"1\" class=\"dataframe\">\n",
       "  <thead>\n",
       "    <tr style=\"text-align: right;\">\n",
       "      <th></th>\n",
       "      <th>area</th>\n",
       "      <th>area_num_1</th>\n",
       "      <th>area_numbe</th>\n",
       "      <th>comarea</th>\n",
       "      <th>comarea_id</th>\n",
       "      <th>community</th>\n",
       "      <th>perimeter</th>\n",
       "      <th>shape_area</th>\n",
       "      <th>shape_len</th>\n",
       "      <th>geometry</th>\n",
       "      <th>pickup community area</th>\n",
       "      <th>count</th>\n",
       "    </tr>\n",
       "  </thead>\n",
       "  <tbody>\n",
       "    <tr>\n",
       "      <th>0</th>\n",
       "      <td>0.0</td>\n",
       "      <td>35</td>\n",
       "      <td>35</td>\n",
       "      <td>0.0</td>\n",
       "      <td>0.0</td>\n",
       "      <td>DOUGLAS</td>\n",
       "      <td>0.0</td>\n",
       "      <td>4.600462e+07</td>\n",
       "      <td>31027.054510</td>\n",
       "      <td>POLYGON ((-87.60914 41.84469, -87.60915 41.844...</td>\n",
       "      <td>35</td>\n",
       "      <td>46</td>\n",
       "    </tr>\n",
       "    <tr>\n",
       "      <th>1</th>\n",
       "      <td>0.0</td>\n",
       "      <td>36</td>\n",
       "      <td>36</td>\n",
       "      <td>0.0</td>\n",
       "      <td>0.0</td>\n",
       "      <td>OAKLAND</td>\n",
       "      <td>0.0</td>\n",
       "      <td>1.691396e+07</td>\n",
       "      <td>19565.506153</td>\n",
       "      <td>POLYGON ((-87.59215 41.81693, -87.59231 41.816...</td>\n",
       "      <td>36</td>\n",
       "      <td>13</td>\n",
       "    </tr>\n",
       "    <tr>\n",
       "      <th>2</th>\n",
       "      <td>0.0</td>\n",
       "      <td>37</td>\n",
       "      <td>37</td>\n",
       "      <td>0.0</td>\n",
       "      <td>0.0</td>\n",
       "      <td>FULLER PARK</td>\n",
       "      <td>0.0</td>\n",
       "      <td>1.991670e+07</td>\n",
       "      <td>25339.089750</td>\n",
       "      <td>POLYGON ((-87.62880 41.80189, -87.62879 41.801...</td>\n",
       "      <td>37</td>\n",
       "      <td>9</td>\n",
       "    </tr>\n",
       "    <tr>\n",
       "      <th>3</th>\n",
       "      <td>0.0</td>\n",
       "      <td>38</td>\n",
       "      <td>38</td>\n",
       "      <td>0.0</td>\n",
       "      <td>0.0</td>\n",
       "      <td>GRAND BOULEVARD</td>\n",
       "      <td>0.0</td>\n",
       "      <td>4.849250e+07</td>\n",
       "      <td>28196.837157</td>\n",
       "      <td>POLYGON ((-87.60671 41.81681, -87.60670 41.816...</td>\n",
       "      <td>38</td>\n",
       "      <td>37</td>\n",
       "    </tr>\n",
       "    <tr>\n",
       "      <th>4</th>\n",
       "      <td>0.0</td>\n",
       "      <td>39</td>\n",
       "      <td>39</td>\n",
       "      <td>0.0</td>\n",
       "      <td>0.0</td>\n",
       "      <td>KENWOOD</td>\n",
       "      <td>0.0</td>\n",
       "      <td>2.907174e+07</td>\n",
       "      <td>23325.167906</td>\n",
       "      <td>POLYGON ((-87.59215 41.81693, -87.59215 41.816...</td>\n",
       "      <td>39</td>\n",
       "      <td>29</td>\n",
       "    </tr>\n",
       "  </tbody>\n",
       "</table>\n",
       "</div>"
      ],
      "text/plain": [
       "   area area_num_1 area_numbe  comarea  comarea_id        community  \\\n",
       "0   0.0         35         35      0.0         0.0          DOUGLAS   \n",
       "1   0.0         36         36      0.0         0.0          OAKLAND   \n",
       "2   0.0         37         37      0.0         0.0      FULLER PARK   \n",
       "3   0.0         38         38      0.0         0.0  GRAND BOULEVARD   \n",
       "4   0.0         39         39      0.0         0.0          KENWOOD   \n",
       "\n",
       "   perimeter    shape_area     shape_len  \\\n",
       "0        0.0  4.600462e+07  31027.054510   \n",
       "1        0.0  1.691396e+07  19565.506153   \n",
       "2        0.0  1.991670e+07  25339.089750   \n",
       "3        0.0  4.849250e+07  28196.837157   \n",
       "4        0.0  2.907174e+07  23325.167906   \n",
       "\n",
       "                                            geometry  pickup community area  \\\n",
       "0  POLYGON ((-87.60914 41.84469, -87.60915 41.844...                     35   \n",
       "1  POLYGON ((-87.59215 41.81693, -87.59231 41.816...                     36   \n",
       "2  POLYGON ((-87.62880 41.80189, -87.62879 41.801...                     37   \n",
       "3  POLYGON ((-87.60671 41.81681, -87.60670 41.816...                     38   \n",
       "4  POLYGON ((-87.59215 41.81693, -87.59215 41.816...                     39   \n",
       "\n",
       "   count  \n",
       "0     46  \n",
       "1     13  \n",
       "2      9  \n",
       "3     37  \n",
       "4     29  "
      ]
     },
     "execution_count": 64,
     "metadata": {},
     "output_type": "execute_result"
    }
   ],
   "source": [
    "with_count.head()"
   ]
  },
  {
   "cell_type": "code",
   "execution_count": null,
   "id": "47d93f2d",
   "metadata": {},
   "outputs": [],
   "source": []
  }
 ],
 "metadata": {
  "kernelspec": {
   "display_name": "Python 3 (ipykernel)",
   "language": "python",
   "name": "python3"
  },
  "language_info": {
   "codemirror_mode": {
    "name": "ipython",
    "version": 3
   },
   "file_extension": ".py",
   "mimetype": "text/x-python",
   "name": "python",
   "nbconvert_exporter": "python",
   "pygments_lexer": "ipython3",
   "version": "3.9.7"
  }
 },
 "nbformat": 4,
 "nbformat_minor": 5
}
