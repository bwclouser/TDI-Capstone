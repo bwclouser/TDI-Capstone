{
 "cells": [
  {
   "cell_type": "code",
   "execution_count": null,
   "id": "d7c37d08",
   "metadata": {},
   "outputs": [],
   "source": [
    "import numpy as np\n",
    "import pandas as pd\n",
    "import matplotlib.pyplot as plt\n",
    "import geopandas as gp"
   ]
  },
  {
   "cell_type": "code",
   "execution_count": null,
   "id": "f53fe2ad",
   "metadata": {},
   "outputs": [],
   "source": [
    "def plot_chicago(counts):\n",
    "    #expects geopandas dataframe with chicago boundary information\n",
    "    #and counts as a pandas dataframe\n",
    "    chicago=gp.read_file('/media/benjamin/Data/Chicago_Transit/Shapes/geo_export_43aec312-120e-4284-b1ca-b89761679d63.shp')\n",
    "    chicago['pickup community area']=chicago['area_num_1'].astype(np.int32)\n",
    "    with_count=chicago.merge(counts,on='pickup community area',how='left')\n",
    "    fix, ax = plt.subplots(1,1) \n",
    "    with_count.plot(column='count',ax=ax,legend=True,legend_kwds={'label':'Pickup Count'})\n",
    "    return with_count\n",
    "\n",
    "def predict(time):\n",
    "    area_counts={}\n",
    "    julday=pd.DataFrame(data=d,index=[0]).set_index('time').index.to_julian_date()[0]\n",
    "    #load pickle here\n",
    "    for i in np.arange(1,78):\n",
    "        int_i=int(i)\n",
    "        coeffs=list(NbdModels[int_i].coefficients)\n",
    "        intercept=NbdModels[int_i].intercept\n",
    "        area_counts[int_i]=coeffs[0]*np.sin(2.*3.14159*julday*2.)+coeffs[1]*np.cos(2.*3.14159*julday*2.)+coeffs[2]*np.sin(2.*3.14159*julday)+coeffs[3]*np.cos(2.*3.14159*julday)+coeffs[4]*np.sin(2.*3.14159*julday/7.)+coeffs[5]*np.cos(2.*3.14159*julday/7)+intercept\n",
    "   \n",
    "    counts=pd.from_dict(area_counts,columns=['pickup community area','counts'])\n",
    "    \n",
    "    merged=plot_chicago(counts)\n",
    "    merged.sort_values(['counts'])['community','count'].head()"
   ]
  },
  {
   "cell_type": "code",
   "execution_count": null,
   "id": "39dd074b",
   "metadata": {},
   "outputs": [],
   "source": [
    "#Please enter a date below in the format 'YYYY-MO-DY-HR', then run the cell.\n",
    "time = ...."
   ]
  },
  {
   "cell_type": "code",
   "execution_count": null,
   "id": "01f1f982",
   "metadata": {},
   "outputs": [],
   "source": []
  }
 ],
 "metadata": {
  "kernelspec": {
   "display_name": "Python 3 (ipykernel)",
   "language": "python",
   "name": "python3"
  },
  "language_info": {
   "codemirror_mode": {
    "name": "ipython",
    "version": 3
   },
   "file_extension": ".py",
   "mimetype": "text/x-python",
   "name": "python",
   "nbconvert_exporter": "python",
   "pygments_lexer": "ipython3",
   "version": "3.9.7"
  }
 },
 "nbformat": 4,
 "nbformat_minor": 5
}
