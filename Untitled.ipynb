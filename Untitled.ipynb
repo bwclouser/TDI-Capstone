{
 "cells": [
  {
   "cell_type": "markdown",
   "id": "6b6969df",
   "metadata": {},
   "source": [
    "Utility Funcitons for loading and handling processed data"
   ]
  },
  {
   "cell_type": "code",
   "execution_count": 2,
   "id": "e9c57da3",
   "metadata": {},
   "outputs": [],
   "source": [
    "import numpy as np\n",
    "import pandas as pd\n",
    "import pyspark.sql.functions as F\n",
    "from pyspark import SparkContext\n",
    "from pyspark.sql import SQLContext\n",
    "sqlContext=SQLContext(sc)"
   ]
  },
  {
   "cell_type": "code",
   "execution_count": null,
   "id": "8a0f89c9",
   "metadata": {},
   "outputs": [],
   "source": [
    "sc = SparkContext('local[*]','temp')"
   ]
  },
  {
   "cell_type": "code",
   "execution_count": 4,
   "id": "881d3f0a",
   "metadata": {},
   "outputs": [],
   "source": [
    "def read_in_range(start_year,start_month,end_year,end_month,path='/media/benjamin/Data/Chicago_Transit/TNP/'):\n",
    "    nmonths=(end_year-start_year-1)*12.+(12.-start_month+1)+end_month\n",
    "    yrs=start_year+np.floor((start_month+np.arange(0,nmonths)-1)/12.)\n",
    "    mos=np.floor((np.mod(start_month+np.arange(nmonths)-1,12)+1 ))\n",
    "    \n",
    "    "
   ]
  },
  {
   "cell_type": "code",
   "execution_count": 5,
   "id": "cb81f5c7",
   "metadata": {},
   "outputs": [
    {
     "name": "stdout",
     "output_type": "stream",
     "text": [
      "[ 7.  8.  9. 10. 11. 12.  1.  2.  3.] [2020. 2020. 2020. 2020. 2020. 2020. 2021. 2021. 2021.]\n"
     ]
    }
   ],
   "source": []
  },
  {
   "cell_type": "code",
   "execution_count": null,
   "id": "a1712417",
   "metadata": {},
   "outputs": [],
   "source": []
  }
 ],
 "metadata": {
  "kernelspec": {
   "display_name": "Python 3 (ipykernel)",
   "language": "python",
   "name": "python3"
  },
  "language_info": {
   "codemirror_mode": {
    "name": "ipython",
    "version": 3
   },
   "file_extension": ".py",
   "mimetype": "text/x-python",
   "name": "python",
   "nbconvert_exporter": "python",
   "pygments_lexer": "ipython3",
   "version": "3.9.7"
  }
 },
 "nbformat": 4,
 "nbformat_minor": 5
}
